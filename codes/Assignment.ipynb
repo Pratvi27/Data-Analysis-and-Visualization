{
 "metadata": {
  "language_info": {
   "codemirror_mode": {
    "name": "ipython",
    "version": 3
   },
   "file_extension": ".py",
   "mimetype": "text/x-python",
   "name": "python",
   "nbconvert_exporter": "python",
   "pygments_lexer": "ipython3",
   "version": "3.7.1-final"
  },
  "orig_nbformat": 2,
  "kernelspec": {
   "name": "python3",
   "display_name": "Python 3.7.1 64-bit ('Pratvi': virtualenv)",
   "metadata": {
    "interpreter": {
     "hash": "cf2350cba43e1d06d9c1f803cf97a1d209fb9586cdf73481a8f23553c7381136"
    }
   }
  }
 },
 "nbformat": 4,
 "nbformat_minor": 2,
 "cells": [
  {
   "cell_type": "code",
   "execution_count": 9,
   "metadata": {},
   "outputs": [],
   "source": [
    "import numpy as np\n",
    "import pandas as pd \n",
    "import matplotlib.pyplot as pd\n",
    "%matplotlib inline\n",
    "import math"
   ]
  },
  {
   "source": [
    "## Q4"
   ],
   "cell_type": "markdown",
   "metadata": {}
  },
  {
   "cell_type": "code",
   "execution_count": 10,
   "metadata": {},
   "outputs": [],
   "source": [
    "men=np.array([11,13,24,14,20,34,25,22,49,8])\n",
    "wom=np.array([9,41,10,21,23,25,37,27,15,7])\n",
    "n1=len(men)\n",
    "n2=len(wom)\n",
    "m_mu=men.mean()\n",
    "w_mu=wom.mean()\n",
    "m_std=men.std()\n",
    "w_std=wom.std()\n",
    "print(m_std,w_std)"
   ]
  },
  {
   "cell_type": "code",
   "execution_count": 21,
   "metadata": {},
   "outputs": [
    {
     "output_type": "execute_result",
     "data": {
      "text/plain": [
       "1.0585824330250924"
      ]
     },
     "metadata": {},
     "execution_count": 21
    }
   ],
   "source": [
    "m_std/w_std"
   ]
  },
  {
   "source": [
    "As the ratio lies within 0.5-2 so we can safely assume the similarity of variance required to calculate the confidence interval for independent variables. "
   ],
   "cell_type": "markdown",
   "metadata": {}
  },
  {
   "cell_type": "code",
   "execution_count": 18,
   "metadata": {},
   "outputs": [],
   "source": [
    "N=(n1-1)*m_std*m_std + (n2-1)*w_std*w_std\n",
    "D=n1+n2-2\n",
    "Sp=np.sqrt(N/D)\n",
    "SE = Sp*np.sqrt(1/n1 + 1/n2)\n",
    "l_95 = [(m_mu -w_mu) - 2.10092*SE,(m_mu-w_mu) + 2.10092*SE]\n",
    "l_99 = [(m_mu-w_mu) - 2.87844*SE,(m_mu-w_mu) + 2.87844*SE]"
   ]
  },
  {
   "cell_type": "code",
   "execution_count": 24,
   "metadata": {},
   "outputs": [
    {
     "output_type": "stream",
     "name": "stdout",
     "text": [
      "[-10.126793123757704, 11.126793123757704] [-14.05961502539322, 15.05961502539322]\n0.5\n5.058161721416191\n"
     ]
    }
   ],
   "source": [
    "print(l_95,l_99)\n",
    "print(m_mu-w_mu)\n",
    "print(SE)"
   ]
  },
  {
   "source": [
    "Our best estimate of the difference, the point estimate, is 0.5lpa . The standard error of the difference is 5.058 lpa. We are 95% confident that the difference in mean difference in salary of men and women is between -10 and 11 lpa. In this sample, the men have higher mean salary than women by 0.5lpa. Based on this interval, we also conclude that there is no statistically significant difference in mean salaries between men and women, because the 95% confidence interval includes the null value, zero. Again, the confidence interval is a range of likely values for the difference in means. Since the interval contains zero (no difference), we do not have sufficient evidence to conclude that there is a difference."
   ],
   "cell_type": "markdown",
   "metadata": {}
  },
  {
   "cell_type": "code",
   "execution_count": null,
   "metadata": {},
   "outputs": [],
   "source": []
  }
 ]
}