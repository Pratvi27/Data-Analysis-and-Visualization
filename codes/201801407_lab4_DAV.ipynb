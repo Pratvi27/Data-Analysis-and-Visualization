{
 "cells": [
  {
   "cell_type": "markdown",
   "metadata": {},
   "source": [
    "**CS306: DATA ANALYSIS AND VISUALIZATION**\n",
    "---\n",
    "\n",
    "LAB 4: Airline Data (Big) Regression Analysis\n",
    "\n",
    "\n",
    "STUDENT ID: 201801407\n",
    "\n",
    "NAME: PRATVI SHAH\n",
    "\n",
    "---\n",
    "\n"
   ]
  },
  {
   "cell_type": "code",
   "execution_count": 1,
   "metadata": {},
   "outputs": [],
   "source": [
    "import pandas as pd\n",
    "import numpy as np\n",
    "import seaborn as sns\n",
    "import matplotlib.pyplot as plt\n",
    "import matplotlib.lines as mlines\n",
    "%matplotlib inline\n",
    "from scipy import stats\n",
    "import math\n",
    "import seaborn as sns\n",
    "from sklearn import preprocessing\n",
    "from scipy import stats\n",
    "from scipy.stats import norm\n",
    "from scipy.stats import iqr\n",
    "from sklearn.linear_model import LinearRegression\n",
    "from sklearn.metrics import mean_squared_error"
   ]
  },
  {
   "cell_type": "code",
   "execution_count": 2,
   "metadata": {},
   "outputs": [],
   "source": [
    "df=pd.read_csv('2008.csv.bz2')"
   ]
  },
  {
   "cell_type": "code",
   "execution_count": 3,
   "metadata": {},
   "outputs": [],
   "source": [
    "data=df[['AirTime','Distance']]\n"
   ]
  },
  {
   "cell_type": "markdown",
   "metadata": {},
   "source": [
    "### Removing null values"
   ]
  },
  {
   "cell_type": "code",
   "execution_count": 4,
   "metadata": {},
   "outputs": [
    {
     "name": "stdout",
     "output_type": "stream",
     "text": [
      "   AirTime  Distance\n",
      "0    116.0       810\n",
      "1    113.0       810\n",
      "2     76.0       515\n",
      "3     78.0       515\n",
      "4     77.0       515\n"
     ]
    }
   ],
   "source": [
    "data=data.dropna()\n",
    "\n",
    "for i in data.columns:\n",
    "    data=data[data['{}'.format(i)].notnull()]\n",
    "row_count=data.shape[0]\n",
    "print(data.head())"
   ]
  },
  {
   "cell_type": "markdown",
   "metadata": {},
   "source": [
    "### Taking Distance as X and Airtime as Y"
   ]
  },
  {
   "cell_type": "code",
   "execution_count": 5,
   "metadata": {},
   "outputs": [],
   "source": [
    "X=data['Distance']\n",
    "Y=data['AirTime']\n"
   ]
  },
  {
   "cell_type": "markdown",
   "metadata": {},
   "source": [
    "## Q1"
   ]
  },
  {
   "cell_type": "markdown",
   "metadata": {},
   "source": [
    "**Pearson Correlation Coefficient**"
   ]
  },
  {
   "cell_type": "code",
   "execution_count": 6,
   "metadata": {},
   "outputs": [],
   "source": [
    "def pearson_coeff(x,y):\n",
    "    N=(np.mean(x*y) - np.mean(x)*np.mean(y))\n",
    "    D1=np.sqrt(np.mean(x*x) - np.mean(x)*np.mean(x))\n",
    "    D2=np.sqrt(np.mean(y*y) - np.mean(y)*np.mean(y))\n",
    "    D=D1*D2\n",
    "    r=N/D\n",
    "    return r;"
   ]
  },
  {
   "cell_type": "code",
   "execution_count": 7,
   "metadata": {},
   "outputs": [
    {
     "name": "stdout",
     "output_type": "stream",
     "text": [
      "Calculated Pearson Correlation coefficient:  0.9828758232165179\n",
      "Inbuilt:  0.9828758232165182\n"
     ]
    }
   ],
   "source": [
    "pearson_corr_coeff=pearson_coeff(np.array(X),np.array(Y))\n",
    "print('Calculated Pearson Correlation coefficient: ',pearson_corr_coeff)\n",
    "r=stats.pearsonr(X,Y)\n",
    "print('Inbuilt: ',r[0])"
   ]
  },
  {
   "cell_type": "markdown",
   "metadata": {},
   "source": [
    "**Finding intercept c=($\\beta 1$) and slope m=($\\beta 2$)**"
   ]
  },
  {
   "cell_type": "code",
   "execution_count": 8,
   "metadata": {},
   "outputs": [],
   "source": [
    "def get_constants(x,y):\n",
    "    m = (np.mean(x) * np.mean(y) - np.mean(x*y) ) / (np.mean(x) * np.mean(x) - np.mean(x*x))\n",
    "    b = np.mean(y) - (np.mean(x) * m)\n",
    "    return b,m"
   ]
  },
  {
   "cell_type": "code",
   "execution_count": 9,
   "metadata": {},
   "outputs": [
    {
     "name": "stdout",
     "output_type": "stream",
     "text": [
      "Intercept of regression line:  18.257032395292754\n",
      "Slope of regression line:  0.1176840924861962\n"
     ]
    }
   ],
   "source": [
    "x=np.array(X).reshape([-1,1]).transpose()[0]\n",
    "y=np.array(Y)\n",
    "c,m=get_constants(x,y)\n",
    "print('Intercept of regression line: ',c)\n",
    "print('Slope of regression line: ',m)\n",
    "ypred= m*x + c\n"
   ]
  },
  {
   "cell_type": "markdown",
   "metadata": {},
   "source": [
    "**Calculating RMSE of y and y_predicted**"
   ]
  },
  {
   "cell_type": "code",
   "execution_count": 10,
   "metadata": {},
   "outputs": [
    {
     "name": "stdout",
     "output_type": "stream",
     "text": [
      "RMSE : 12.427072327524876\n"
     ]
    }
   ],
   "source": [
    "rmse= np.sqrt(mean_squared_error(y, ypred))\n",
    "print('RMSE :', rmse)"
   ]
  },
  {
   "cell_type": "code",
   "execution_count": 11,
   "metadata": {},
   "outputs": [
    {
     "data": {
      "image/png": "[encoded data removed]",
      "text/plain": [
       "<Figure size 720x504 with 1 Axes>"
      ]
     },
     "metadata": {
      "needs_background": "light"
     },
     "output_type": "display_data"
    }
   ],
   "source": [
    "#initial predicted fit\n",
    "plt.figure(figsize=[10,7])\n",
    "plt.plot(x,y,'o',label='original')\n",
    "plt.plot(x,ypred,'--',label='linear fit')\n",
    "plt.xlabel('Distance')\n",
    "plt.ylabel('AirTime')\n",
    "plt.grid(True)\n",
    "plt.legend()\n",
    "plt.show()\n"
   ]
  },
  {
   "cell_type": "markdown",
   "metadata": {},
   "source": [
    "## Q2"
   ]
  },
  {
   "cell_type": "markdown",
   "metadata": {},
   "source": [
    "### 95% confidence interval for slope"
   ]
  },
  {
   "cell_type": "code",
   "execution_count": 12,
   "metadata": {},
   "outputs": [
    {
     "name": "stdout",
     "output_type": "stream",
     "text": [
      "95% confidence interval for slope: [0.11759445894938748,0.11777372602300491]\n",
      "\n",
      "Using inbuilt function 95% confidence interval for slope: [0.11766757578900007,0.11770060918339233]\n"
     ]
    }
   ],
   "source": [
    "sx=np.sqrt(np.sum((x-np.mean(x))**2))\n",
    "l_interval=m - 1.96*np.std(y)/sx\n",
    "r_interval=m + 1.96*np.std(y)/sx\n",
    "print('95% confidence interval for slope: ['+str(l_interval)+','+str(r_interval)+']')\n",
    "slope, intercept, r_value, p_value, std_err = stats.linregress(np.array(X),np.array(Y))\n",
    "l_interval=m - 1.96*std_err\n",
    "r_interval=m + 1.96*std_err\n",
    "print('\\nUsing inbuilt function 95% confidence interval for slope: ['+str(l_interval)+','+str(r_interval)+']')\n",
    "\n"
   ]
  },
  {
   "cell_type": "markdown",
   "metadata": {},
   "source": [
    "### Mean of y$_0$ when x$_0$=1200 "
   ]
  },
  {
   "cell_type": "code",
   "execution_count": 13,
   "metadata": {},
   "outputs": [
    {
     "name": "stdout",
     "output_type": "stream",
     "text": [
      "Mean of y0 calculated using the confidence interval obtained previously :  159.47794337872818\n",
      "\n",
      "95% confidence interval of y: [159.46863352970556,159.4872532277508]\n",
      "\n",
      "Mean of y0 calculated using the confidence interval of 95% on y :  159.47794337872818\n"
     ]
    }
   ],
   "source": [
    "Xo=1200\n",
    "yl=l_interval*Xo + c\n",
    "yr=r_interval*Xo + c\n",
    "n = len(x)\n",
    "print('Mean of y0 calculated using the confidence interval obtained previously : ',(yl+yr)/2)\n",
    "\n",
    "s = np.sqrt(np.sum((y - ypred)**2)/(n - 2))\n",
    "k = np.sqrt((1/n) + (Xo - np.mean(x))/(np.sum((x - np.mean(x))**2)))\n",
    "y0=m*Xo + c\n",
    "y_l=y0-1.96*s*k\n",
    "y_r=y0+1.96*s*k\n",
    "print('\\n95% confidence interval of y: ['+str(y_l)+','+str(y_r)+']')\n",
    "print('\\nMean of y0 calculated using the confidence interval of 95% on y : ',(y_l+y_r)/2)"
   ]
  },
  {
   "cell_type": "markdown",
   "metadata": {},
   "source": [
    "## Q3"
   ]
  },
  {
   "cell_type": "code",
   "execution_count": 34,
   "metadata": {
    "scrolled": false
   },
   "outputs": [],
   "source": [
    "def run_wls(x,y,ypred,lim,R,m):\n",
    "    err=1\n",
    "    runs=0\n",
    "    while (err>lim and runs<R):\n",
    "        d=y-ypred\n",
    "        ui=d/(np.std(d)*3)\n",
    "        w=np.zeros(len(y))\n",
    "        for i in range(len(ui)):\n",
    "            if ui[i]<1:\n",
    "                w[i]=(1-ui[i]*ui[i])**2\n",
    "            else:\n",
    "                w[i]=0\n",
    "        x_wls=[]\n",
    "        y_wls=[]\n",
    "        for i in range(len(x)):\n",
    "            x_wls.append(x[i]*np.sqrt(w[i]))\n",
    "            y_wls.append(y[i]*np.sqrt(w[i]))\n",
    "        x_wls=np.array(x_wls).reshape([-1,1])\n",
    "        y_wls=np.array(y_wls)\n",
    "        WLS = LinearRegression()\n",
    "        WLS.fit(x_wls, y_wls)\n",
    "        err=np.abs(m-WLS.coef_)\n",
    "        m=WLS.coef_\n",
    "        c=WLS.intercept_\n",
    "        print(m,c)\n",
    "        ypred=m*x + c\n",
    "        runs+=1\n",
    "    return WLS.intercept_,WLS.coef_,x_wls,y_wls\n"
   ]
  },
  {
   "cell_type": "code",
   "execution_count": 35,
   "metadata": {},
   "outputs": [
    {
     "name": "stdout",
     "output_type": "stream",
     "text": [
      "[0.11553693] 17.03361055397241\n",
      "[0.11438619] 17.116201851378577\n",
      "[0.11380834] 17.251291602580196\n",
      "[0.11352561] 17.335805629969784\n",
      "[0.11338977] 17.380326117111935\n",
      "[0.113325] 17.402484976734954\n",
      "[0.11329424] 17.41323691893804\n",
      "[0.1132797] 17.41835482210881\n",
      "[0.11327286] 17.420773526804055\n"
     ]
    }
   ],
   "source": [
    "c_wls,m_wls,x_wls,y_wls=run_wls(x,y,ypred,0.00001,50,m)"
   ]
  },
  {
   "cell_type": "markdown",
   "metadata": {},
   "source": [
    "### **WLS intercept and slope**"
   ]
  },
  {
   "cell_type": "code",
   "execution_count": 36,
   "metadata": {},
   "outputs": [
    {
     "name": "stdout",
     "output_type": "stream",
     "text": [
      "WLS intercept:  17.420773526804055\n",
      "WLS slope:  [0.11327286]\n"
     ]
    }
   ],
   "source": [
    "print('WLS intercept: ',c_wls)\n",
    "print('WLS slope: ', m_wls)"
   ]
  },
  {
   "cell_type": "markdown",
   "metadata": {},
   "source": [
    "### RMSE using new values"
   ]
  },
  {
   "cell_type": "code",
   "execution_count": 37,
   "metadata": {},
   "outputs": [
    {
     "ename": "NameError",
     "evalue": "name 'x_wls' is not defined",
     "output_type": "error",
     "traceback": [
      "\u001b[1;31m---------------------------------------------------------------------------\u001b[0m",
      "\u001b[1;31mNameError\u001b[0m                                 Traceback (most recent call last)",
      "\u001b[1;32m<ipython-input-37-cd638cd72dce>\u001b[0m in \u001b[0;36m<module>\u001b[1;34m\u001b[0m\n\u001b[1;32m----> 1\u001b[1;33m \u001b[0mypred2\u001b[0m\u001b[1;33m=\u001b[0m\u001b[0mm_wls\u001b[0m \u001b[1;33m+\u001b[0m \u001b[0mx_wls\u001b[0m\u001b[1;33m*\u001b[0m\u001b[0mc_wls\u001b[0m\u001b[1;33m\u001b[0m\u001b[1;33m\u001b[0m\u001b[0m\n\u001b[0m\u001b[0;32m      2\u001b[0m \u001b[0mrmse2\u001b[0m\u001b[1;33m=\u001b[0m\u001b[0mnp\u001b[0m\u001b[1;33m.\u001b[0m\u001b[0msqrt\u001b[0m\u001b[1;33m(\u001b[0m\u001b[0mmean_squared_error\u001b[0m\u001b[1;33m(\u001b[0m\u001b[0my_wls\u001b[0m\u001b[1;33m,\u001b[0m \u001b[0mypred2\u001b[0m\u001b[1;33m)\u001b[0m\u001b[1;33m)\u001b[0m\u001b[1;33m\u001b[0m\u001b[1;33m\u001b[0m\u001b[0m\n\u001b[0;32m      3\u001b[0m \u001b[0mprint\u001b[0m\u001b[1;33m(\u001b[0m\u001b[1;34m'\\nRMSE with weighted data:'\u001b[0m\u001b[1;33m,\u001b[0m \u001b[0mrmse2\u001b[0m\u001b[1;33m)\u001b[0m\u001b[1;33m\u001b[0m\u001b[1;33m\u001b[0m\u001b[0m\n\u001b[0;32m      4\u001b[0m \u001b[0mypred3\u001b[0m\u001b[1;33m=\u001b[0m\u001b[0mm_wls\u001b[0m \u001b[1;33m+\u001b[0m \u001b[0mx\u001b[0m\u001b[1;33m*\u001b[0m\u001b[0mc_wls\u001b[0m\u001b[1;33m\u001b[0m\u001b[1;33m\u001b[0m\u001b[0m\n\u001b[0;32m      5\u001b[0m \u001b[0mrmse3\u001b[0m\u001b[1;33m=\u001b[0m\u001b[0mnp\u001b[0m\u001b[1;33m.\u001b[0m\u001b[0msqrt\u001b[0m\u001b[1;33m(\u001b[0m\u001b[0mmean_squared_error\u001b[0m\u001b[1;33m(\u001b[0m\u001b[0my\u001b[0m\u001b[1;33m,\u001b[0m \u001b[0mypred3\u001b[0m\u001b[1;33m)\u001b[0m\u001b[1;33m)\u001b[0m\u001b[1;33m\u001b[0m\u001b[1;33m\u001b[0m\u001b[0m\n",
      "\u001b[1;31mNameError\u001b[0m: name 'x_wls' is not defined"
     ]
    }
   ],
   "source": [
    "ypred2=m_wls + x_wls*c_wls\n",
    "rmse2=np.sqrt(mean_squared_error(y_wls, ypred2))\n",
    "print('\\nRMSE with weighted data:', rmse2)\n",
    "ypred3=m_wls + x*c_wls\n",
    "rmse3=np.sqrt(mean_squared_error(y, ypred3))\n",
    "print('\\nRMSE with original data:', rmse3)"
   ]
  },
  {
   "cell_type": "markdown",
   "metadata": {},
   "source": [
    "### Comparing OLS fit with WLS fit"
   ]
  },
  {
   "cell_type": "code",
   "execution_count": 27,
   "metadata": {
    "scrolled": false
   },
   "outputs": [
    {
     "data": {
      "image/png": "[encoded data removed]",
      "text/plain": [
       "<Figure size 720x504 with 1 Axes>"
      ]
     },
     "metadata": {
      "needs_background": "light"
     },
     "output_type": "display_data"
    }
   ],
   "source": [
    "#wls predicted fit\n",
    "ypred_wls=WLS.intercept_ + x*WLS.coef_\n",
    "plt.figure(figsize=[10,7])\n",
    "plt.plot(x,y,'c.',label='original data')\n",
    "plt.plot(x,ypred,'r-',label='original linear fit')\n",
    "plt.plot(x,ypred_wls,'k-',label='WLS fit')\n",
    "plt.xlabel('Distance')\n",
    "plt.ylabel('AirTime')\n",
    "plt.grid(True)\n",
    "plt.legend()\n",
    "plt.show()\n"
   ]
  },
  {
   "cell_type": "code",
   "execution_count": 28,
   "metadata": {},
   "outputs": [
    {
     "data": {
      "image/png": "[encoded data removed]",
      "text/plain": [
       "<Figure size 720x504 with 1 Axes>"
      ]
     },
     "metadata": {
      "needs_background": "light"
     },
     "output_type": "display_data"
    }
   ],
   "source": [
    "plt.figure(figsize=[10,7])\n",
    "plt.plot(x,ypred,'r-',label='original linear fit')\n",
    "plt.plot(x,ypred_wls,'k-',label='WLS fit')\n",
    "plt.xlabel('Distance')\n",
    "plt.ylabel('AirTime')\n",
    "plt.grid(True)\n",
    "plt.legend()\n",
    "plt.show()"
   ]
  },
  {
   "cell_type": "markdown",
   "metadata": {},
   "source": [
    "We could clearly observe from the above methods that WLS gives better fit for the weighted attributes and not the original values.\n",
    "\n",
    "RMSE of weighted data with WLS fit: 8.997451263742029\n",
    "\n",
    "RMSE of original data with WLS fit: 12.793300780453471\n",
    "\n",
    "The fit obtained in Q1 is the best fit with all the outliers while the effect of outliers is nullified in the WLS method. This nullifying effect is what the weighted attributes represent. \n",
    "\n",
    "We can also verify that any WLS fit other than the one obtained in Q1 will give worse fit to the original data as the Q1 fit has slope and intercept values which were obtained by minimizing the MSE of the predicted linear fit and the original data.\n",
    "\n",
    "**From this we can conclude that WLS gives us a better fit for data in which outliers beyond 3$\\sigma$ are removed. \n",
    "In WLS even when the outliers were present in the data they did not contribute to the fit suggesting the robustness of the WLS model.**\n"
   ]
  },
  {
   "cell_type": "code",
   "execution_count": null,
   "metadata": {},
   "outputs": [],
   "source": []
  }
 ],
 "metadata": {
  "kernelspec": {
   "display_name": "Python 3",
   "language": "python",
   "name": "python3"
  },
  "language_info": {
   "codemirror_mode": {
    "name": "ipython",
    "version": 3
   },
   "file_extension": ".py",
   "mimetype": "text/x-python",
   "name": "python",
   "nbconvert_exporter": "python",
   "pygments_lexer": "ipython3",
   "version": "3.7.1"
  }
 },
 "nbformat": 4,
 "nbformat_minor": 2
}
