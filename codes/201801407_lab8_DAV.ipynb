{
 "cells": [
  {
   "cell_type": "markdown",
   "metadata": {
    "id": "r_20QdZkaojF"
   },
   "source": [
    "**CS306: DATA ANALYSIS AND VISUALIZATION**\n",
    "---\n",
    "\n",
    "LAB 8: K-Means Clustering\n",
    "\n",
    "\n",
    "STUDENT ID: 201801407\n",
    "\n",
    "NAME: PRATVI SHAH\n",
    "\n",
    "---\n",
    "\n"
   ]
  },
  {
   "cell_type": "code",
   "execution_count": 1,
   "metadata": {
    "id": "CiadjmhFaojM"
   },
   "outputs": [],
   "source": [
    "import numpy as np\n",
    "import matplotlib.pyplot as plt\n",
    "import pandas as pd\n",
    "import random\n",
    "%matplotlib inline\n",
    "from sklearn.preprocessing import StandardScaler,RobustScaler\n",
    "import seaborn as sns\n",
    "from sklearn.metrics import mean_squared_error as mse\n",
    "from sklearn.cluster import KMeans\n",
    "from sklearn.datasets import load_digits\n",
    "import warnings\n",
    "warnings.filterwarnings('ignore')\n"
   ]
  },
  {
   "cell_type": "code",
   "execution_count": 2,
   "metadata": {
    "id": "yPS6-9BbaojN"
   },
   "outputs": [],
   "source": [
    "def find_centroids(k,n):\n",
    "    random.seed(5)\n",
    "    idx=[]\n",
    "    for i in range(k):\n",
    "        idx.append(random.randint(0,n-1))\n",
    "    return idx"
   ]
  },
  {
   "cell_type": "code",
   "execution_count": 3,
   "metadata": {
    "id": "sU6Dnd5WaojO"
   },
   "outputs": [],
   "source": [
    "def find_clusters(df,c,k,n):\n",
    "    dist=[[] for _ in range(k)]\n",
    "    for i in range(n):\n",
    "        temp=[]\n",
    "        for j in range(k):\n",
    "            dist_temp= np.sum((df[i]-c[j])**2)\n",
    "            temp.append(dist_temp)\n",
    "        location=temp.index(min(temp))\n",
    "        dist[location].append(i)\n",
    "    return dist"
   ]
  },
  {
   "cell_type": "code",
   "execution_count": 4,
   "metadata": {
    "id": "c6u21gkPfdIb"
   },
   "outputs": [],
   "source": [
    "def find_new_centroids(df,dist,c,k,m):\n",
    "    for i in range(k):\n",
    "        temp_mean=[0 for _ in range(m)]\n",
    "        for j in range(len(dist[i])):\n",
    "            id=dist[i][j]\n",
    "            temp=0\n",
    "            for kk in range(m):\n",
    "                temp_mean[kk]+=df[id][kk]/len(dist[i])\n",
    "        for j in range(m):\n",
    "            c[i][j]=temp_mean[j]\n",
    "    return c\n"
   ]
  },
  {
   "cell_type": "code",
   "execution_count": 5,
   "metadata": {
    "id": "tvr0aU7Af5ri"
   },
   "outputs": [],
   "source": [
    "def plot_2D(dist,df,c,k):\n",
    "    plt.figure(figsize=[10,6])\n",
    "    distx=[[] for i in range(k)]\n",
    "    disty=[[] for i in range(k)]\n",
    "    for i in range(k):\n",
    "        for j in range(len(dist[i])):\n",
    "            id=dist[i][j]\n",
    "            distx[i].append(df[id][0])\n",
    "            disty[i].append(df[id][1])\n",
    "    cx=[];cy=[]\n",
    "    for i in range(k):\n",
    "        cx.append(c[i][0])\n",
    "        cy.append(c[i][1])\n",
    "        sns.scatterplot(distx[i],disty[i],markers='o',s=200)#,c=next(clr))\n",
    "    sns.scatterplot(cx,cy,color='.2',marker='*',s=200)\n",
    "    plt.grid()\n",
    "    plt.xlabel('X',fontsize=15)\n",
    "    plt.ylabel('Y',fontsize=15)"
   ]
  },
  {
   "cell_type": "code",
   "execution_count": 6,
   "metadata": {
    "id": "XdlT0MH3aojS"
   },
   "outputs": [],
   "source": [
    "def k_means(df,k,plot):\n",
    "    n=df.shape[0]\n",
    "    m=df.shape[1]\n",
    "    #indices of centroid\n",
    "    idx=find_centroids(k,n)\n",
    "\n",
    "    #to store the centroids kxm\n",
    "    c=[[] for _ in range(k)]\n",
    "    cprev=[[] for _ in range(k)]\n",
    "\n",
    "    for i in range(k):\n",
    "        for j in range(m):\n",
    "            c[i].append(df[idx[i]][j])\n",
    "            cprev[i].append(df[idx[i]][j])\n",
    "    \n",
    "    #to get the points in a given cluster kxdim\n",
    "    #just store the indices in the original array\n",
    "    dist=[[] for _ in range(k)]\n",
    "    itr=0\n",
    "    flag=False\n",
    "    while flag==False and itr!=150:\n",
    "        \n",
    "        #k clusters with elements in the cluster\n",
    "        dist=find_clusters(df,c,k,n)\n",
    "            \n",
    "        #store previous centroids\n",
    "        cprev=np.copy(c)\n",
    "\n",
    "        #finding the new centroids\n",
    "        c=find_new_centroids(df,dist,c,k,m)\n",
    "        \n",
    "        count=0\n",
    "        for i in range(k):\n",
    "            for j in range(len(c[0])):\n",
    "                if c[i][j]==cprev[i][j]:\n",
    "                    count+=1\n",
    "        if count==k*len(c[0]):\n",
    "            break\n",
    "        itr+=1\n",
    "\n",
    "    #to plot if plot=True\n",
    "    if plot==True:\n",
    "        plot_2D(dist,df,c,k)\n",
    "\n",
    "    return c,dist\n"
   ]
  },
  {
   "cell_type": "code",
   "execution_count": 7,
   "metadata": {
    "id": "hofNB2HtaojT"
   },
   "outputs": [],
   "source": [
    "def find_inertia(c,d,df):\n",
    "    ans=0\n",
    "    for i in range(len(c)):\n",
    "        indices=d[i]\n",
    "        for kk in range(len(indices)):\n",
    "            for j in range(len(c[0])):\n",
    "                ans+=(c[i][j]-df[indices[kk]][j])**2\n",
    "    return ans"
   ]
  },
  {
   "cell_type": "markdown",
   "metadata": {
    "id": "ZK_dxn0DaojN"
   },
   "source": [
    "# Q1"
   ]
  },
  {
   "cell_type": "code",
   "execution_count": 8,
   "metadata": {
    "id": "pPfK9NUsaojN"
   },
   "outputs": [],
   "source": [
    "x = [10,14,8,12,15,12,15,17,5,18,22,25,35,21,39,27,25,33,30,36]\n",
    "y = [8,25,10,30,35,12,14,15,22,32,2,21,35,7,15,29,33,23,17,11]"
   ]
  },
  {
   "cell_type": "code",
   "execution_count": 9,
   "metadata": {
    "id": "tU7h76ymaojN"
   },
   "outputs": [],
   "source": [
    "df=[]\n",
    "df.append(x)\n",
    "df.append(y)\n",
    "df=np.array(df).transpose()\n",
    "scaler = StandardScaler()\n",
    "df_scaled = scaler.fit_transform(df)"
   ]
  },
  {
   "cell_type": "code",
   "execution_count": 10,
   "metadata": {
    "id": "q1-JqP0_aojU"
   },
   "outputs": [],
   "source": [
    "SSE_q1=[]\n",
    "n=20\n",
    "for i in range(1,n):\n",
    "    c_q1,dist_q1=k_means(df,i,False)\n",
    "    SSE_q1.append(find_inertia(c_q1,dist_q1,df))\n"
   ]
  },
  {
   "cell_type": "code",
   "execution_count": 11,
   "metadata": {
    "colab": {
     "base_uri": "https://localhost:8080/",
     "height": 428
    },
    "id": "oCicDMUzaojU",
    "outputId": "df947098-715a-4251-ea76-c3845c6fa3ee"
   },
   "outputs": [
    {
     "data": {
      "text/plain": [
       "Text(0.5, 1.0, 'Elbow Curve')"
      ]
     },
     "execution_count": 11,
     "metadata": {
      "tags": []
     },
     "output_type": "execute_result"
    },
    {
     "data": {
      "image/png": "[encoded data removed]",
      "text/plain": [
       "<Figure size 720x432 with 1 Axes>"
      ]
     },
     "metadata": {
      "needs_background": "light",
      "tags": []
     },
     "output_type": "display_data"
    }
   ],
   "source": [
    "x_axis=np.arange(1,20)\n",
    "plt.figure(figsize=[10,6])\n",
    "plt.plot(x_axis,SSE_q1,'k-o')\n",
    "plt.grid()\n",
    "plt.ylabel('SSE',fontsize=15)\n",
    "plt.xlabel('K(number of clusters)',fontsize=15)\n",
    "plt.title('Elbow Curve',fontsize=15)"
   ]
  },
  {
   "cell_type": "code",
   "execution_count": 12,
   "metadata": {
    "colab": {
     "base_uri": "https://localhost:8080/",
     "height": 428
    },
    "id": "mf24E3dIkCqt",
    "outputId": "aa262213-54f8-4c56-c10d-d0731729d824"
   },
   "outputs": [
    {
     "data": {
      "text/plain": [
       "Text(0.5, 1.0, 'Optimal cluster size')"
      ]
     },
     "execution_count": 12,
     "metadata": {
      "tags": []
     },
     "output_type": "execute_result"
    },
    {
     "data": {
      "image/png": "[encoded data removed]",
      "text/plain": [
       "<Figure size 720x432 with 1 Axes>"
      ]
     },
     "metadata": {
      "needs_background": "light",
      "tags": []
     },
     "output_type": "display_data"
    }
   ],
   "source": [
    "diff_x=np.arange(2,20)\n",
    "diff_sse_q1 = [SSE_q1[i-1]-SSE_q1[i] for i in range(1,len(SSE_q1))]\n",
    "plt.figure(figsize=[10,6])\n",
    "plt.plot(diff_x,diff_sse_q1,'k-o')\n",
    "plt.grid()\n",
    "plt.ylabel('SSE[i-1] - SSE[i]',fontsize=15)\n",
    "plt.xlabel('i',fontsize=15)\n",
    "plt.title('Optimal cluster size',fontsize=15)"
   ]
  },
  {
   "cell_type": "markdown",
   "metadata": {
    "id": "Z7TGtltvky5Z"
   },
   "source": [
    "### We can see that at i=6 we get almost zero difference and after that we get such a case for i>10 for which the computation time increases significantly hence, K=6 is a good choice for number of clusters."
   ]
  },
  {
   "cell_type": "code",
   "execution_count": 13,
   "metadata": {
    "colab": {
     "base_uri": "https://localhost:8080/",
     "height": 393
    },
    "id": "Cd6DxXHDlShE",
    "outputId": "73f27601-c095-459c-d0e7-7ac7bca30d0a"
   },
   "outputs": [
    {
     "data": {
      "image/png": "[encoded data removed]",
      "text/plain": [
       "<Figure size 720x432 with 1 Axes>"
      ]
     },
     "metadata": {
      "needs_background": "light",
      "tags": []
     },
     "output_type": "display_data"
    }
   ],
   "source": [
    "c_q1,dist_q1=k_means(df,6,True)"
   ]
  },
  {
   "cell_type": "markdown",
   "metadata": {
    "id": "JdFoXWjKhbOW"
   },
   "source": [
    "# Q2"
   ]
  },
  {
   "cell_type": "code",
   "execution_count": 14,
   "metadata": {
    "colab": {
     "base_uri": "https://localhost:8080/"
    },
    "id": "1H3VSxGCaojR",
    "outputId": "5ef7300f-620c-4674-ee01-e28e5e169ddc"
   },
   "outputs": [
    {
     "data": {
      "text/plain": [
       "(1797, 64)"
      ]
     },
     "execution_count": 14,
     "metadata": {
      "tags": []
     },
     "output_type": "execute_result"
    }
   ],
   "source": [
    "data_digits=load_digits().data\n",
    "data_digits.shape"
   ]
  },
  {
   "cell_type": "code",
   "execution_count": 15,
   "metadata": {
    "id": "qc6MlnlkrOky"
   },
   "outputs": [],
   "source": [
    "scaler = StandardScaler()\n",
    "data_scaled = scaler.fit_transform(data_digits)"
   ]
  },
  {
   "cell_type": "code",
   "execution_count": 16,
   "metadata": {
    "colab": {
     "base_uri": "https://localhost:8080/"
    },
    "id": "vAD_R40krU7z",
    "outputId": "b0c2c0c1-1e7e-4f68-bb46-4fda55e8bdb9"
   },
   "outputs": [
    {
     "name": "stdout",
     "output_type": "stream",
     "text": [
      "SSE using inbuilt function: 69408.34813425265\n"
     ]
    }
   ],
   "source": [
    "kmeans = KMeans(n_clusters = 10, init='k-means++')\n",
    "kmeans.fit(data_scaled)\n",
    "SSE_kmeans=kmeans.inertia_\n",
    "print('SSE using inbuilt function:',SSE_kmeans)"
   ]
  },
  {
   "cell_type": "code",
   "execution_count": 17,
   "metadata": {
    "colab": {
     "base_uri": "https://localhost:8080/"
    },
    "id": "tCvvJzDmru3_",
    "outputId": "8226c4d1-343b-4f69-8de1-3eedeb7c2277"
   },
   "outputs": [
    {
     "name": "stdout",
     "output_type": "stream",
     "text": [
      "SSE using my function(k_means): 69476.70340699745\n"
     ]
    }
   ],
   "source": [
    "c_q2,dist_q2=k_means(data_scaled,10,False)\n",
    "SSE_q2_myfunc = find_inertia(c_q2,dist_q2,data_scaled)\n",
    "print('SSE using my function(k_means):',SSE_q2_myfunc)"
   ]
  },
  {
   "cell_type": "markdown",
   "metadata": {
    "id": "Qx3bOj1ym0Cb"
   },
   "source": [
    "### SSE shows that the k_means() function provides a good approximation and is to a large extent similar to the inbuilt function. Although we can calculate the SSE for this big data but using the current function k_means() we can not visualize the effect of clustering as it would have 10 dimensions. We can make an attempt to visualize this using PCA."
   ]
  },
  {
   "cell_type": "markdown",
   "metadata": {
    "id": "ngoHgzf-qw8I"
   },
   "source": [
    "### Inbuilt k-means function"
   ]
  },
  {
   "cell_type": "code",
   "execution_count": 18,
   "metadata": {
    "id": "2naC9QQlaojS"
   },
   "outputs": [],
   "source": [
    "SSE_inbuilt = []\n",
    "for cluster in range(1,11):\n",
    "    kmeans = KMeans(n_clusters = cluster, init='k-means++')\n",
    "    kmeans.fit(data_scaled)\n",
    "    SSE_inbuilt.append(kmeans.inertia_)"
   ]
  },
  {
   "cell_type": "markdown",
   "metadata": {
    "id": "AywSslPsq1UY"
   },
   "source": [
    "### My function for digits dataset"
   ]
  },
  {
   "cell_type": "code",
   "execution_count": 19,
   "metadata": {
    "id": "l-HLf088aojU"
   },
   "outputs": [],
   "source": [
    "SSE_q2=[]\n",
    "n=11\n",
    "for i in range(1,n):\n",
    "    c_q2,dist_q2=k_means(data_scaled,i,False)\n",
    "    SSE_q2.append(find_inertia(c_q2,dist_q2,data_scaled))\n"
   ]
  },
  {
   "cell_type": "code",
   "execution_count": 20,
   "metadata": {
    "colab": {
     "base_uri": "https://localhost:8080/",
     "height": 428
    },
    "id": "bsBnPcPCaojU",
    "outputId": "1a3ffce7-5abd-4482-9cba-3bc92be6ce53"
   },
   "outputs": [
    {
     "data": {
      "text/plain": [
       "<matplotlib.legend.Legend at 0x7f4c5ddc7a10>"
      ]
     },
     "execution_count": 20,
     "metadata": {
      "tags": []
     },
     "output_type": "execute_result"
    },
    {
     "data": {
      "image/png": "[encoded data removed]",
      "text/plain": [
       "<Figure size 720x432 with 1 Axes>"
      ]
     },
     "metadata": {
      "needs_background": "light",
      "tags": []
     },
     "output_type": "display_data"
    }
   ],
   "source": [
    "x_axis=[i for i in range(1,11)]\n",
    "plt.figure(figsize=[10,6])\n",
    "plt.plot(x_axis,SSE_q2,'k-o',label='My Function')\n",
    "plt.plot(x_axis,SSE_inbuilt,'r-o',label='Inbuilt')\n",
    "plt.grid()\n",
    "plt.ylabel('SSE',fontsize=15)\n",
    "plt.xlabel('K(number of clusters)',fontsize=15)\n",
    "plt.title('Elbow Curve',fontsize=15)\n",
    "plt.legend(fontsize=12)"
   ]
  },
  {
   "cell_type": "code",
   "execution_count": 20,
   "metadata": {
    "id": "cj-sY6ReqHmV"
   },
   "outputs": [],
   "source": []
  }
 ],
 "metadata": {
  "colab": {
   "collapsed_sections": [],
   "name": "201801407_lab8_DAV.ipynb",
   "provenance": []
  },
  "kernelspec": {
   "display_name": "Python 3",
   "language": "python",
   "name": "python3"
  },
  "language_info": {
   "codemirror_mode": {
    "name": "ipython",
    "version": 3
   },
   "file_extension": ".py",
   "mimetype": "text/x-python",
   "name": "python",
   "nbconvert_exporter": "python",
   "pygments_lexer": "ipython3",
   "version": "3.7.1"
  }
 },
 "nbformat": 4,
 "nbformat_minor": 1
}
