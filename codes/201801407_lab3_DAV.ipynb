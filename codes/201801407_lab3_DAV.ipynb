{
 "cells": [
  {
   "cell_type": "markdown",
   "metadata": {},
   "source": [
    "**CS306: DATA ANALYSIS AND VISUALIZATION**\n",
    "---\n",
    "\n",
    "LAB 3: Airline Data (Big) Analysis\n",
    "\n",
    "\n",
    "STUDENT ID: 201801407\n",
    "\n",
    "NAME: PRATVI SHAH\n",
    "\n",
    "---\n",
    "\n"
   ]
  },
  {
   "cell_type": "code",
   "execution_count": 2,
   "metadata": {},
   "outputs": [],
   "source": [
    "import pandas as pd\n",
    "import numpy as np\n",
    "import seaborn as sns\n",
    "import matplotlib.pyplot as plt\n",
    "import matplotlib.lines as mlines\n",
    "%matplotlib inline\n",
    "import scipy.stats as stats\n",
    "import math\n",
    "import warnings\n",
    "warnings.simplefilter(action='ignore', category=FutureWarning)"
   ]
  },
  {
   "cell_type": "markdown",
   "metadata": {},
   "source": [
    "### Function to plot PDF & CDF and return the cumulative frequency distribution values for use in KSTest"
   ]
  },
  {
   "cell_type": "code",
   "execution_count": 3,
   "metadata": {},
   "outputs": [],
   "source": [
    "def make_pdf_cdf(n_equal_bins,df_temp,attr):\n",
    "    freq , bins= np.histogram(df_temp[attr],bins=n_equal_bins) \n",
    "    norm_freq=pd.Series(freq/freq.sum())#normalizing the frequencies\n",
    "    cumulative_freq=[];\n",
    "    cumulative_freq.append(norm_freq[0]);\n",
    "    for i in range(1,len(norm_freq)):\n",
    "        cumulative_freq.append(norm_freq[i]+cumulative_freq[i-1]);\n",
    "\n",
    "    cumulative_freq=pd.Series(cumulative_freq);#The frequencies in CDF plot\n",
    "    freq=pd.Series(freq)\n",
    "    bins=pd.Series(bins)\n",
    "    fig = plt.figure()\n",
    "    \n",
    "    fig, axs = plt.subplots(1,2,figsize =(18, 5)) \n",
    "    N, bins, patches=axs[0].hist(df_temp[attr],color=\"pink\",edgecolor=\"black\", \n",
    "                                    bins=bins,weights=np.zeros_like(df_temp[attr]) + 1. / len(df_temp[attr]))\n",
    "    axs[0].set_xlabel(attr)\n",
    "    axs[0].set_ylabel('Normalized Frequency');\n",
    "    axs[0].set_title('PDF of '+ attr +' with Bins='+str(n_equal_bins))\n",
    "    axs[0].grid()\n",
    "\n",
    "\n",
    "\n",
    "    N, bins, patches=axs[1].hist(df_temp[attr],color=\"purple\",edgecolor=\"black\", bins=bins,weights=np.zeros_like(df_temp[attr]) + 1. / len(df_temp[attr]),cumulative=1)\n",
    "    axs[1].set_xlabel(attr)\n",
    "    axs[1].set_ylabel('Normalized Frequency');\n",
    "    axs[1].set_title('CDF of '+attr+ ' with Bins='+str(n_equal_bins))\n",
    "    axs[1].grid()\n",
    "    return cumulative_freq\n",
    "\n",
    "\n",
    "    "
   ]
  },
  {
   "cell_type": "markdown",
   "metadata": {},
   "source": [
    "### 1) Excel has a limit of maximum row 1048576 by 16384 columns. The file loaded was of size 1048576x29. "
   ]
  },
  {
   "cell_type": "code",
   "execution_count": 4,
   "metadata": {},
   "outputs": [],
   "source": [
    "df=pd.read_csv('2008.csv.bz2')"
   ]
  },
  {
   "cell_type": "code",
   "execution_count": 5,
   "metadata": {},
   "outputs": [
    {
     "data": {
      "text/html": [
       "<div>\n",
       "<style scoped>\n",
       "    .dataframe tbody tr th:only-of-type {\n",
       "        vertical-align: middle;\n",
       "    }\n",
       "\n",
       "    .dataframe tbody tr th {\n",
       "        vertical-align: top;\n",
       "    }\n",
       "\n",
       "    .dataframe thead th {\n",
       "        text-align: right;\n",
       "    }\n",
       "</style>\n",
       "<table border=\"1\" class=\"dataframe\">\n",
       "  <thead>\n",
       "    <tr style=\"text-align: right;\">\n",
       "      <th></th>\n",
       "      <th>Year</th>\n",
       "      <th>Month</th>\n",
       "      <th>DayofMonth</th>\n",
       "      <th>DayOfWeek</th>\n",
       "      <th>DepTime</th>\n",
       "      <th>CRSDepTime</th>\n",
       "      <th>ArrTime</th>\n",
       "      <th>CRSArrTime</th>\n",
       "      <th>UniqueCarrier</th>\n",
       "      <th>FlightNum</th>\n",
       "      <th>...</th>\n",
       "      <th>TaxiIn</th>\n",
       "      <th>TaxiOut</th>\n",
       "      <th>Cancelled</th>\n",
       "      <th>CancellationCode</th>\n",
       "      <th>Diverted</th>\n",
       "      <th>CarrierDelay</th>\n",
       "      <th>WeatherDelay</th>\n",
       "      <th>NASDelay</th>\n",
       "      <th>SecurityDelay</th>\n",
       "      <th>LateAircraftDelay</th>\n",
       "    </tr>\n",
       "  </thead>\n",
       "  <tbody>\n",
       "    <tr>\n",
       "      <th>0</th>\n",
       "      <td>2008</td>\n",
       "      <td>1</td>\n",
       "      <td>3</td>\n",
       "      <td>4</td>\n",
       "      <td>2003.0</td>\n",
       "      <td>1955</td>\n",
       "      <td>2211.0</td>\n",
       "      <td>2225</td>\n",
       "      <td>WN</td>\n",
       "      <td>335</td>\n",
       "      <td>...</td>\n",
       "      <td>4.0</td>\n",
       "      <td>8.0</td>\n",
       "      <td>0</td>\n",
       "      <td>NaN</td>\n",
       "      <td>0</td>\n",
       "      <td>NaN</td>\n",
       "      <td>NaN</td>\n",
       "      <td>NaN</td>\n",
       "      <td>NaN</td>\n",
       "      <td>NaN</td>\n",
       "    </tr>\n",
       "    <tr>\n",
       "      <th>1</th>\n",
       "      <td>2008</td>\n",
       "      <td>1</td>\n",
       "      <td>3</td>\n",
       "      <td>4</td>\n",
       "      <td>754.0</td>\n",
       "      <td>735</td>\n",
       "      <td>1002.0</td>\n",
       "      <td>1000</td>\n",
       "      <td>WN</td>\n",
       "      <td>3231</td>\n",
       "      <td>...</td>\n",
       "      <td>5.0</td>\n",
       "      <td>10.0</td>\n",
       "      <td>0</td>\n",
       "      <td>NaN</td>\n",
       "      <td>0</td>\n",
       "      <td>NaN</td>\n",
       "      <td>NaN</td>\n",
       "      <td>NaN</td>\n",
       "      <td>NaN</td>\n",
       "      <td>NaN</td>\n",
       "    </tr>\n",
       "    <tr>\n",
       "      <th>2</th>\n",
       "      <td>2008</td>\n",
       "      <td>1</td>\n",
       "      <td>3</td>\n",
       "      <td>4</td>\n",
       "      <td>628.0</td>\n",
       "      <td>620</td>\n",
       "      <td>804.0</td>\n",
       "      <td>750</td>\n",
       "      <td>WN</td>\n",
       "      <td>448</td>\n",
       "      <td>...</td>\n",
       "      <td>3.0</td>\n",
       "      <td>17.0</td>\n",
       "      <td>0</td>\n",
       "      <td>NaN</td>\n",
       "      <td>0</td>\n",
       "      <td>NaN</td>\n",
       "      <td>NaN</td>\n",
       "      <td>NaN</td>\n",
       "      <td>NaN</td>\n",
       "      <td>NaN</td>\n",
       "    </tr>\n",
       "    <tr>\n",
       "      <th>3</th>\n",
       "      <td>2008</td>\n",
       "      <td>1</td>\n",
       "      <td>3</td>\n",
       "      <td>4</td>\n",
       "      <td>926.0</td>\n",
       "      <td>930</td>\n",
       "      <td>1054.0</td>\n",
       "      <td>1100</td>\n",
       "      <td>WN</td>\n",
       "      <td>1746</td>\n",
       "      <td>...</td>\n",
       "      <td>3.0</td>\n",
       "      <td>7.0</td>\n",
       "      <td>0</td>\n",
       "      <td>NaN</td>\n",
       "      <td>0</td>\n",
       "      <td>NaN</td>\n",
       "      <td>NaN</td>\n",
       "      <td>NaN</td>\n",
       "      <td>NaN</td>\n",
       "      <td>NaN</td>\n",
       "    </tr>\n",
       "    <tr>\n",
       "      <th>4</th>\n",
       "      <td>2008</td>\n",
       "      <td>1</td>\n",
       "      <td>3</td>\n",
       "      <td>4</td>\n",
       "      <td>1829.0</td>\n",
       "      <td>1755</td>\n",
       "      <td>1959.0</td>\n",
       "      <td>1925</td>\n",
       "      <td>WN</td>\n",
       "      <td>3920</td>\n",
       "      <td>...</td>\n",
       "      <td>3.0</td>\n",
       "      <td>10.0</td>\n",
       "      <td>0</td>\n",
       "      <td>NaN</td>\n",
       "      <td>0</td>\n",
       "      <td>2.0</td>\n",
       "      <td>0.0</td>\n",
       "      <td>0.0</td>\n",
       "      <td>0.0</td>\n",
       "      <td>32.0</td>\n",
       "    </tr>\n",
       "  </tbody>\n",
       "</table>\n",
       "<p>5 rows × 29 columns</p>\n",
       "</div>"
      ],
      "text/plain": [
       "   Year  Month  DayofMonth  DayOfWeek  DepTime  CRSDepTime  ArrTime  \\\n",
       "0  2008      1           3          4   2003.0        1955   2211.0   \n",
       "1  2008      1           3          4    754.0         735   1002.0   \n",
       "2  2008      1           3          4    628.0         620    804.0   \n",
       "3  2008      1           3          4    926.0         930   1054.0   \n",
       "4  2008      1           3          4   1829.0        1755   1959.0   \n",
       "\n",
       "   CRSArrTime UniqueCarrier  FlightNum        ...         TaxiIn  TaxiOut  \\\n",
       "0        2225            WN        335        ...            4.0      8.0   \n",
       "1        1000            WN       3231        ...            5.0     10.0   \n",
       "2         750            WN        448        ...            3.0     17.0   \n",
       "3        1100            WN       1746        ...            3.0      7.0   \n",
       "4        1925            WN       3920        ...            3.0     10.0   \n",
       "\n",
       "   Cancelled  CancellationCode  Diverted  CarrierDelay WeatherDelay NASDelay  \\\n",
       "0          0               NaN         0           NaN          NaN      NaN   \n",
       "1          0               NaN         0           NaN          NaN      NaN   \n",
       "2          0               NaN         0           NaN          NaN      NaN   \n",
       "3          0               NaN         0           NaN          NaN      NaN   \n",
       "4          0               NaN         0           2.0          0.0      0.0   \n",
       "\n",
       "   SecurityDelay  LateAircraftDelay  \n",
       "0            NaN                NaN  \n",
       "1            NaN                NaN  \n",
       "2            NaN                NaN  \n",
       "3            NaN                NaN  \n",
       "4            0.0               32.0  \n",
       "\n",
       "[5 rows x 29 columns]"
      ]
     },
     "execution_count": 5,
     "metadata": {},
     "output_type": "execute_result"
    }
   ],
   "source": [
    "df.head()"
   ]
  },
  {
   "cell_type": "markdown",
   "metadata": {},
   "source": [
    "### 2) Size of the file in python came out to be 7009728x29"
   ]
  },
  {
   "cell_type": "code",
   "execution_count": 8,
   "metadata": {},
   "outputs": [
    {
     "name": "stdout",
     "output_type": "stream",
     "text": [
      "Rowcount:  7009728\n"
     ]
    }
   ],
   "source": [
    "rows=df.shape[0]\n",
    "print('Rowcount: ',rows)\n"
   ]
  },
  {
   "cell_type": "markdown",
   "metadata": {},
   "source": [
    "### 3) Filtering AirTime and Distance from the data "
   ]
  },
  {
   "cell_type": "code",
   "execution_count": 10,
   "metadata": {},
   "outputs": [
    {
     "name": "stdout",
     "output_type": "stream",
     "text": [
      "   AirTime  Distance\n",
      "0    116.0       810\n",
      "1    113.0       810\n",
      "2     76.0       515\n",
      "3     78.0       515\n",
      "4     77.0       515\n"
     ]
    }
   ],
   "source": [
    "data=df[['AirTime','Distance']]\n",
    "data=data.dropna()\n",
    "for i in data.columns:\n",
    "    data=data[data['{}'.format(i)].notnull()]\n",
    "row_count=data.shape[0]\n",
    "print(data.head())"
   ]
  },
  {
   "cell_type": "markdown",
   "metadata": {},
   "source": [
    "***Plotting data to check for outliers***"
   ]
  },
  {
   "cell_type": "code",
   "execution_count": 11,
   "metadata": {},
   "outputs": [
    {
     "data": {
      "image/png": "[encoded data removed]",
      "text/plain": [
       "<Figure size 432x288 with 1 Axes>"
      ]
     },
     "metadata": {
      "needs_background": "light"
     },
     "output_type": "display_data"
    },
    {
     "data": {
      "image/png": "[encoded data removed]",
      "text/plain": [
       "<Figure size 432x288 with 1 Axes>"
      ]
     },
     "metadata": {
      "needs_background": "light"
     },
     "output_type": "display_data"
    }
   ],
   "source": [
    "sns.boxplot(data['AirTime'])\n",
    "plt.show()\n",
    "sns.boxplot(data['Distance'])\n",
    "plt.show()\n"
   ]
  },
  {
   "cell_type": "markdown",
   "metadata": {},
   "source": [
    "***Handling outliers using the interquartile range method***"
   ]
  },
  {
   "cell_type": "code",
   "execution_count": 12,
   "metadata": {},
   "outputs": [
    {
     "name": "stdout",
     "output_type": "stream",
     "text": [
      "Airtime mean:  90.49131646668722\n",
      "Airtime standard deviation:  46.709084701779965\n",
      "Distance mean:  612.8610493100866\n",
      "Distance standard deviation:  379.8788457114467\n"
     ]
    }
   ],
   "source": [
    "cols=data.columns\n",
    "for i in cols:\n",
    "    Q1 = data['{}'.format(i)].quantile(0.25)\n",
    "    Q3 = data['{}'.format(i)].quantile(0.75)\n",
    "    IQR = Q3 - Q1\n",
    "    m1=Q1 - (1.5 * IQR)\n",
    "    m2=Q3 + (1.5 * IQR)\n",
    "    #print(Q1,Q3,IQR,m1,m2)\n",
    "    data=data[~((data['{}'.format(i)] < (Q1 - 1.5 * IQR)) |(data['{}'.format(i)] > (Q3 + 1.5 * IQR)))]\n",
    "    \n",
    "print('Airtime mean: ',data['AirTime'].mean())\n",
    "print('Airtime standard deviation: ',data['AirTime'].std())\n",
    "print('Distance mean: ',data['Distance'].mean())\n",
    "print('Distance standard deviation: ',data['Distance'].std())"
   ]
  },
  {
   "cell_type": "code",
   "execution_count": 13,
   "metadata": {},
   "outputs": [
    {
     "data": {
      "image/png": "[encoded data removed]",
      "text/plain": [
       "<Figure size 432x288 with 1 Axes>"
      ]
     },
     "metadata": {
      "needs_background": "light"
     },
     "output_type": "display_data"
    },
    {
     "data": {
      "image/png": "[encoded data removed]",
      "text/plain": [
       "<Figure size 432x288 with 1 Axes>"
      ]
     },
     "metadata": {
      "needs_background": "light"
     },
     "output_type": "display_data"
    },
    {
     "data": {
      "text/plain": [
       "Text(0, 0.5, 'Distance')"
      ]
     },
     "execution_count": 13,
     "metadata": {},
     "output_type": "execute_result"
    },
    {
     "data": {
      "image/png": "[encoded data removed]",
      "text/plain": [
       "<Figure size 432x288 with 1 Axes>"
      ]
     },
     "metadata": {
      "needs_background": "light"
     },
     "output_type": "display_data"
    }
   ],
   "source": [
    "sns.boxplot(data['AirTime'])\n",
    "plt.show()\n",
    "sns.boxplot(data['Distance'])\n",
    "plt.show()\n",
    "plt.plot(data['AirTime'],data['Distance'],'o')\n",
    "plt.xlabel('AirTime')\n",
    "plt.ylabel('Distance')"
   ]
  },
  {
   "cell_type": "markdown",
   "metadata": {},
   "source": [
    "***Normalizing the data***"
   ]
  },
  {
   "cell_type": "code",
   "execution_count": 14,
   "metadata": {},
   "outputs": [
    {
     "name": "stdout",
     "output_type": "stream",
     "text": [
      "    AirTime  Distance\n",
      "0  0.546118  0.518952\n",
      "1  0.481891  0.518952\n",
      "2 -0.310246 -0.257611\n",
      "3 -0.267428 -0.257611\n",
      "4 -0.288837 -0.257611\n",
      "\n",
      "Airtime mean:  -6.970740463773581e-15\n",
      "Airtime standard deviation:  0.9999999999925508\n",
      "Distance mean:  -5.014921822888421e-15\n",
      "Distance standard deviation:  1.0000000000015736\n",
      "\n",
      "            AirTime      Distance\n",
      "count  6.357320e+06  6.357320e+06\n",
      "mean  -6.970740e-15 -5.014922e-15\n",
      "std    1.000000e+00  1.000000e+00\n",
      "min   -1.937339e+00 -1.584350e+00\n",
      "25%   -7.812467e-01 -7.998894e-01\n",
      "50%   -2.032007e-01 -2.102277e-01\n",
      "75%    6.317547e-01  6.532055e-01\n",
      "max    3.350712e+00  2.948674e+00\n"
     ]
    }
   ],
   "source": [
    "data=(data-data.mean())/data.std()\n",
    "print(data.head())\n",
    "print()\n",
    "print('Airtime mean: ',data['AirTime'].mean())\n",
    "print('Airtime standard deviation: ',data['AirTime'].std())\n",
    "print('Distance mean: ',data['Distance'].mean())\n",
    "print('Distance standard deviation: ',data['Distance'].std())\n",
    "print()\n",
    "print(data.describe())\n",
    "row_count=data.shape[0]"
   ]
  },
  {
   "cell_type": "markdown",
   "metadata": {},
   "source": [
    "***Plotting the PDF and CDF with 50 bins***"
   ]
  },
  {
   "cell_type": "code",
   "execution_count": 15,
   "metadata": {},
   "outputs": [
    {
     "data": {
      "text/plain": [
       "<Figure size 432x288 with 0 Axes>"
      ]
     },
     "metadata": {},
     "output_type": "display_data"
    },
    {
     "data": {
      "image/png": "[encoded data removed]",
      "text/plain": [
       "<Figure size 1296x360 with 2 Axes>"
      ]
     },
     "metadata": {
      "needs_background": "light"
     },
     "output_type": "display_data"
    },
    {
     "data": {
      "text/plain": [
       "<Figure size 432x288 with 0 Axes>"
      ]
     },
     "metadata": {},
     "output_type": "display_data"
    },
    {
     "data": {
      "image/png": "[encoded data removed]",
      "text/plain": [
       "<Figure size 1296x360 with 2 Axes>"
      ]
     },
     "metadata": {
      "needs_background": "light"
     },
     "output_type": "display_data"
    }
   ],
   "source": [
    "airtime_cdf=make_pdf_cdf(50,data,'AirTime')\n",
    "distance_cdf=make_pdf_cdf(50,data,'Distance')"
   ]
  },
  {
   "cell_type": "markdown",
   "metadata": {},
   "source": [
    "### 4) Generating random samples of Standard Normal distribution"
   ]
  },
  {
   "cell_type": "code",
   "execution_count": 17,
   "metadata": {},
   "outputs": [],
   "source": [
    "df_norm=pd.DataFrame(np.random.randn(row_count, 2), columns=['Sample1','Sample2'])"
   ]
  },
  {
   "cell_type": "markdown",
   "metadata": {},
   "source": [
    "***Verifying the correctness of the randomly generated data using plots and verifying mean, standard deviation = $N(0,1)$***"
   ]
  },
  {
   "cell_type": "code",
   "execution_count": 18,
   "metadata": {},
   "outputs": [
    {
     "name": "stdout",
     "output_type": "stream",
     "text": [
      "Mean of sample1:  0.0004041560103072082\n",
      "Standard deviation of sample1:  0.999527365952908\n",
      "Mean of sample2:  0.00051905985833027\n",
      "Standard deviation of sample2:  1.0000332783311976\n"
     ]
    },
    {
     "data": {
      "text/plain": [
       "<Figure size 432x288 with 0 Axes>"
      ]
     },
     "metadata": {},
     "output_type": "display_data"
    },
    {
     "data": {
      "image/png": "[encoded data removed]",
      "text/plain": [
       "<Figure size 1296x360 with 2 Axes>"
      ]
     },
     "metadata": {
      "needs_background": "light"
     },
     "output_type": "display_data"
    },
    {
     "data": {
      "text/plain": [
       "<Figure size 432x288 with 0 Axes>"
      ]
     },
     "metadata": {},
     "output_type": "display_data"
    },
    {
     "data": {
      "image/png": "[encoded data removed]",
      "text/plain": [
       "<Figure size 1296x360 with 2 Axes>"
      ]
     },
     "metadata": {
      "needs_background": "light"
     },
     "output_type": "display_data"
    }
   ],
   "source": [
    "sample1_cdf=make_pdf_cdf(50,df_norm,'Sample1')\n",
    "sample2_cdf=make_pdf_cdf(50,df_norm,'Sample2')\n",
    "print('Mean of sample1: ',df_norm['Sample1'].mean())\n",
    "print('Standard deviation of sample1: ',df_norm['Sample1'].std())\n",
    "print('Mean of sample2: ',df_norm['Sample2'].mean())\n",
    "print('Standard deviation of sample2: ',df_norm['Sample2'].std())"
   ]
  },
  {
   "cell_type": "markdown",
   "metadata": {},
   "source": [
    "### 5) \\& 6) KSTest for $Distance$ feature to find out if it is normally distributed or not"
   ]
  },
  {
   "cell_type": "code",
   "execution_count": 19,
   "metadata": {},
   "outputs": [],
   "source": [
    "#attributes: \n",
    "# df1=dataframe1\n",
    "# df4=dataframe2\n",
    "# b=boolean for different functioning\n",
    "# D=test statistic\n",
    "# n=length of dataframe1\n",
    "# m=length of dataframe2\n",
    "# dt=step size for incrementing alpha value to find the critical value\n",
    "\n",
    "def alpha(df1,df4,b,D,n,m,dt):\n",
    "    if b==True:\n",
    "        norm=df4.copy();\n",
    "        dist=df1.copy();\n",
    "        D = 0\n",
    "\n",
    "        #finding the supremum for KS-test\n",
    "        for i in range(len(dist)):\n",
    "            if (D < abs(norm[i]-dist[i])):\n",
    "                D = abs(norm[i]-dist[i])\n",
    "    \n",
    "    \n",
    "    verdict=[];\n",
    "    rhs=[];\n",
    "    d=[]\n",
    "    A=[];\n",
    "    \n",
    "    #Taking alpha to find the turning point in the status of hypothesis testing\n",
    "    for a in np.arange(1,50,2):\n",
    "        alpha=a*dt\n",
    "        RHS = np.sqrt((n+m)/(n*m));\n",
    "        RHS = RHS*np.sqrt(-0.5*np.log(alpha/2))\n",
    "        rhs.append(RHS)\n",
    "        d.append(D)\n",
    "        A.append(alpha)\n",
    "        if D>RHS:\n",
    "            verdict.append('Rejected')#null-hypothesis is rejected when D>RHS is satisfied\n",
    "        else:\n",
    "            verdict.append('Accepted')#null-hypothesis is rejected when D<=RHS is satisfied\n",
    "\n",
    "    A=pd.Series(A)\n",
    "    rhs=pd.Series(rhs)\n",
    "    verdict=pd.Series(verdict)\n",
    "    d=pd.Series(d)\n",
    "    frame={'Alpha':A,'D':d,'RHS':rhs,'Null Hypothesis':verdict}\n",
    "    ans=pd.DataFrame(frame);\n",
    "    return ans"
   ]
  },
  {
   "cell_type": "code",
   "execution_count": 21,
   "metadata": {},
   "outputs": [
    {
     "data": {
      "image/png": "[encoded data removed]",
      "text/plain": [
       "<Figure size 432x288 with 1 Axes>"
      ]
     },
     "metadata": {
      "needs_background": "light"
     },
     "output_type": "display_data"
    }
   ],
   "source": [
    "#This is the plot of cdf of the data we wish to compare to \n",
    "#the random sample of standard normal distribution that we generated\n",
    "#This step has major approximations but it allows us to \n",
    "#find the critical value of alpha with the given computational limitations of our PC\n",
    "plt.plot(distance_cdf,'r-*')\n",
    "plt.plot(sample1_cdf,'b-o')\n",
    "plt.xlabel('Bins')\n",
    "plt.ylabel('Normalized Frequency')\n",
    "plt.grid()"
   ]
  },
  {
   "cell_type": "markdown",
   "metadata": {},
   "source": [
    "KSTest for different values of alpha"
   ]
  },
  {
   "cell_type": "code",
   "execution_count": 22,
   "metadata": {},
   "outputs": [
    {
     "data": {
      "text/html": [
       "<div>\n",
       "<style scoped>\n",
       "    .dataframe tbody tr th:only-of-type {\n",
       "        vertical-align: middle;\n",
       "    }\n",
       "\n",
       "    .dataframe tbody tr th {\n",
       "        vertical-align: top;\n",
       "    }\n",
       "\n",
       "    .dataframe thead th {\n",
       "        text-align: right;\n",
       "    }\n",
       "</style>\n",
       "<table border=\"1\" class=\"dataframe\">\n",
       "  <thead>\n",
       "    <tr style=\"text-align: right;\">\n",
       "      <th></th>\n",
       "      <th>Alpha</th>\n",
       "      <th>D</th>\n",
       "      <th>RHS</th>\n",
       "      <th>Null Hypothesis</th>\n",
       "    </tr>\n",
       "  </thead>\n",
       "  <tbody>\n",
       "    <tr>\n",
       "      <th>0</th>\n",
       "      <td>1.000000e-07</td>\n",
       "      <td>0.557969</td>\n",
       "      <td>0.579849</td>\n",
       "      <td>Accepted</td>\n",
       "    </tr>\n",
       "    <tr>\n",
       "      <th>1</th>\n",
       "      <td>3.000000e-07</td>\n",
       "      <td>0.557969</td>\n",
       "      <td>0.560582</td>\n",
       "      <td>Accepted</td>\n",
       "    </tr>\n",
       "    <tr>\n",
       "      <th>2</th>\n",
       "      <td>5.000000e-07</td>\n",
       "      <td>0.557969</td>\n",
       "      <td>0.551395</td>\n",
       "      <td>Rejected</td>\n",
       "    </tr>\n",
       "    <tr>\n",
       "      <th>3</th>\n",
       "      <td>7.000000e-07</td>\n",
       "      <td>0.557969</td>\n",
       "      <td>0.545258</td>\n",
       "      <td>Rejected</td>\n",
       "    </tr>\n",
       "    <tr>\n",
       "      <th>4</th>\n",
       "      <td>9.000000e-07</td>\n",
       "      <td>0.557969</td>\n",
       "      <td>0.540630</td>\n",
       "      <td>Rejected</td>\n",
       "    </tr>\n",
       "    <tr>\n",
       "      <th>5</th>\n",
       "      <td>1.100000e-06</td>\n",
       "      <td>0.557969</td>\n",
       "      <td>0.536905</td>\n",
       "      <td>Rejected</td>\n",
       "    </tr>\n",
       "    <tr>\n",
       "      <th>6</th>\n",
       "      <td>1.300000e-06</td>\n",
       "      <td>0.557969</td>\n",
       "      <td>0.533784</td>\n",
       "      <td>Rejected</td>\n",
       "    </tr>\n",
       "    <tr>\n",
       "      <th>7</th>\n",
       "      <td>1.500000e-06</td>\n",
       "      <td>0.557969</td>\n",
       "      <td>0.531097</td>\n",
       "      <td>Rejected</td>\n",
       "    </tr>\n",
       "    <tr>\n",
       "      <th>8</th>\n",
       "      <td>1.700000e-06</td>\n",
       "      <td>0.557969</td>\n",
       "      <td>0.528735</td>\n",
       "      <td>Rejected</td>\n",
       "    </tr>\n",
       "    <tr>\n",
       "      <th>9</th>\n",
       "      <td>1.900000e-06</td>\n",
       "      <td>0.557969</td>\n",
       "      <td>0.526627</td>\n",
       "      <td>Rejected</td>\n",
       "    </tr>\n",
       "    <tr>\n",
       "      <th>10</th>\n",
       "      <td>2.100000e-06</td>\n",
       "      <td>0.557969</td>\n",
       "      <td>0.524723</td>\n",
       "      <td>Rejected</td>\n",
       "    </tr>\n",
       "    <tr>\n",
       "      <th>11</th>\n",
       "      <td>2.300000e-06</td>\n",
       "      <td>0.557969</td>\n",
       "      <td>0.522987</td>\n",
       "      <td>Rejected</td>\n",
       "    </tr>\n",
       "    <tr>\n",
       "      <th>12</th>\n",
       "      <td>2.500000e-06</td>\n",
       "      <td>0.557969</td>\n",
       "      <td>0.521390</td>\n",
       "      <td>Rejected</td>\n",
       "    </tr>\n",
       "    <tr>\n",
       "      <th>13</th>\n",
       "      <td>2.700000e-06</td>\n",
       "      <td>0.557969</td>\n",
       "      <td>0.519912</td>\n",
       "      <td>Rejected</td>\n",
       "    </tr>\n",
       "    <tr>\n",
       "      <th>14</th>\n",
       "      <td>2.900000e-06</td>\n",
       "      <td>0.557969</td>\n",
       "      <td>0.518535</td>\n",
       "      <td>Rejected</td>\n",
       "    </tr>\n",
       "    <tr>\n",
       "      <th>15</th>\n",
       "      <td>3.100000e-06</td>\n",
       "      <td>0.557969</td>\n",
       "      <td>0.517248</td>\n",
       "      <td>Rejected</td>\n",
       "    </tr>\n",
       "    <tr>\n",
       "      <th>16</th>\n",
       "      <td>3.300000e-06</td>\n",
       "      <td>0.557969</td>\n",
       "      <td>0.516038</td>\n",
       "      <td>Rejected</td>\n",
       "    </tr>\n",
       "    <tr>\n",
       "      <th>17</th>\n",
       "      <td>3.500000e-06</td>\n",
       "      <td>0.557969</td>\n",
       "      <td>0.514896</td>\n",
       "      <td>Rejected</td>\n",
       "    </tr>\n",
       "    <tr>\n",
       "      <th>18</th>\n",
       "      <td>3.700000e-06</td>\n",
       "      <td>0.557969</td>\n",
       "      <td>0.513816</td>\n",
       "      <td>Rejected</td>\n",
       "    </tr>\n",
       "    <tr>\n",
       "      <th>19</th>\n",
       "      <td>3.900000e-06</td>\n",
       "      <td>0.557969</td>\n",
       "      <td>0.512790</td>\n",
       "      <td>Rejected</td>\n",
       "    </tr>\n",
       "    <tr>\n",
       "      <th>20</th>\n",
       "      <td>4.100000e-06</td>\n",
       "      <td>0.557969</td>\n",
       "      <td>0.511814</td>\n",
       "      <td>Rejected</td>\n",
       "    </tr>\n",
       "    <tr>\n",
       "      <th>21</th>\n",
       "      <td>4.300000e-06</td>\n",
       "      <td>0.557969</td>\n",
       "      <td>0.510882</td>\n",
       "      <td>Rejected</td>\n",
       "    </tr>\n",
       "    <tr>\n",
       "      <th>22</th>\n",
       "      <td>4.500000e-06</td>\n",
       "      <td>0.557969</td>\n",
       "      <td>0.509992</td>\n",
       "      <td>Rejected</td>\n",
       "    </tr>\n",
       "    <tr>\n",
       "      <th>23</th>\n",
       "      <td>4.700000e-06</td>\n",
       "      <td>0.557969</td>\n",
       "      <td>0.509138</td>\n",
       "      <td>Rejected</td>\n",
       "    </tr>\n",
       "    <tr>\n",
       "      <th>24</th>\n",
       "      <td>4.900000e-06</td>\n",
       "      <td>0.557969</td>\n",
       "      <td>0.508319</td>\n",
       "      <td>Rejected</td>\n",
       "    </tr>\n",
       "  </tbody>\n",
       "</table>\n",
       "</div>"
      ],
      "text/plain": [
       "           Alpha         D       RHS Null Hypothesis\n",
       "0   1.000000e-07  0.557969  0.579849        Accepted\n",
       "1   3.000000e-07  0.557969  0.560582        Accepted\n",
       "2   5.000000e-07  0.557969  0.551395        Rejected\n",
       "3   7.000000e-07  0.557969  0.545258        Rejected\n",
       "4   9.000000e-07  0.557969  0.540630        Rejected\n",
       "5   1.100000e-06  0.557969  0.536905        Rejected\n",
       "6   1.300000e-06  0.557969  0.533784        Rejected\n",
       "7   1.500000e-06  0.557969  0.531097        Rejected\n",
       "8   1.700000e-06  0.557969  0.528735        Rejected\n",
       "9   1.900000e-06  0.557969  0.526627        Rejected\n",
       "10  2.100000e-06  0.557969  0.524723        Rejected\n",
       "11  2.300000e-06  0.557969  0.522987        Rejected\n",
       "12  2.500000e-06  0.557969  0.521390        Rejected\n",
       "13  2.700000e-06  0.557969  0.519912        Rejected\n",
       "14  2.900000e-06  0.557969  0.518535        Rejected\n",
       "15  3.100000e-06  0.557969  0.517248        Rejected\n",
       "16  3.300000e-06  0.557969  0.516038        Rejected\n",
       "17  3.500000e-06  0.557969  0.514896        Rejected\n",
       "18  3.700000e-06  0.557969  0.513816        Rejected\n",
       "19  3.900000e-06  0.557969  0.512790        Rejected\n",
       "20  4.100000e-06  0.557969  0.511814        Rejected\n",
       "21  4.300000e-06  0.557969  0.510882        Rejected\n",
       "22  4.500000e-06  0.557969  0.509992        Rejected\n",
       "23  4.700000e-06  0.557969  0.509138        Rejected\n",
       "24  4.900000e-06  0.557969  0.508319        Rejected"
      ]
     },
     "execution_count": 22,
     "metadata": {},
     "output_type": "execute_result"
    }
   ],
   "source": [
    "dt=0.0000001\n",
    "alpha(distance_cdf,sample1_cdf,True,0,len(distance_cdf),len(sample1_cdf),dt)"
   ]
  },
  {
   "cell_type": "markdown",
   "metadata": {},
   "source": [
    "The above methodology had many approximations and from the result we got critical value of alpha to be between 3 to 5e-07  and D=0.557969. From this we can say that for alpha>=5e-07 we **reject the null hypothesis i.e., the given data is not similar to the standard normal distribution.** \n",
    "\n",
    "\n",
    "\n",
    "\n",
    "\n",
    "\n"
   ]
  },
  {
   "cell_type": "code",
   "execution_count": 23,
   "metadata": {},
   "outputs": [
    {
     "name": "stdout",
     "output_type": "stream",
     "text": [
      "D:  0.09585737386194182\n",
      "pval:  0.0\n"
     ]
    },
    {
     "data": {
      "text/html": [
       "<div>\n",
       "<style scoped>\n",
       "    .dataframe tbody tr th:only-of-type {\n",
       "        vertical-align: middle;\n",
       "    }\n",
       "\n",
       "    .dataframe tbody tr th {\n",
       "        vertical-align: top;\n",
       "    }\n",
       "\n",
       "    .dataframe thead th {\n",
       "        text-align: right;\n",
       "    }\n",
       "</style>\n",
       "<table border=\"1\" class=\"dataframe\">\n",
       "  <thead>\n",
       "    <tr style=\"text-align: right;\">\n",
       "      <th></th>\n",
       "      <th>Alpha</th>\n",
       "      <th>D</th>\n",
       "      <th>RHS</th>\n",
       "      <th>Null Hypothesis</th>\n",
       "    </tr>\n",
       "  </thead>\n",
       "  <tbody>\n",
       "    <tr>\n",
       "      <th>0</th>\n",
       "      <td>1.000000e-07</td>\n",
       "      <td>0.095857</td>\n",
       "      <td>0.001626</td>\n",
       "      <td>Rejected</td>\n",
       "    </tr>\n",
       "    <tr>\n",
       "      <th>1</th>\n",
       "      <td>3.000000e-07</td>\n",
       "      <td>0.095857</td>\n",
       "      <td>0.001572</td>\n",
       "      <td>Rejected</td>\n",
       "    </tr>\n",
       "    <tr>\n",
       "      <th>2</th>\n",
       "      <td>5.000000e-07</td>\n",
       "      <td>0.095857</td>\n",
       "      <td>0.001546</td>\n",
       "      <td>Rejected</td>\n",
       "    </tr>\n",
       "    <tr>\n",
       "      <th>3</th>\n",
       "      <td>7.000000e-07</td>\n",
       "      <td>0.095857</td>\n",
       "      <td>0.001529</td>\n",
       "      <td>Rejected</td>\n",
       "    </tr>\n",
       "    <tr>\n",
       "      <th>4</th>\n",
       "      <td>9.000000e-07</td>\n",
       "      <td>0.095857</td>\n",
       "      <td>0.001516</td>\n",
       "      <td>Rejected</td>\n",
       "    </tr>\n",
       "    <tr>\n",
       "      <th>5</th>\n",
       "      <td>1.100000e-06</td>\n",
       "      <td>0.095857</td>\n",
       "      <td>0.001506</td>\n",
       "      <td>Rejected</td>\n",
       "    </tr>\n",
       "    <tr>\n",
       "      <th>6</th>\n",
       "      <td>1.300000e-06</td>\n",
       "      <td>0.095857</td>\n",
       "      <td>0.001497</td>\n",
       "      <td>Rejected</td>\n",
       "    </tr>\n",
       "    <tr>\n",
       "      <th>7</th>\n",
       "      <td>1.500000e-06</td>\n",
       "      <td>0.095857</td>\n",
       "      <td>0.001489</td>\n",
       "      <td>Rejected</td>\n",
       "    </tr>\n",
       "    <tr>\n",
       "      <th>8</th>\n",
       "      <td>1.700000e-06</td>\n",
       "      <td>0.095857</td>\n",
       "      <td>0.001483</td>\n",
       "      <td>Rejected</td>\n",
       "    </tr>\n",
       "    <tr>\n",
       "      <th>9</th>\n",
       "      <td>1.900000e-06</td>\n",
       "      <td>0.095857</td>\n",
       "      <td>0.001477</td>\n",
       "      <td>Rejected</td>\n",
       "    </tr>\n",
       "    <tr>\n",
       "      <th>10</th>\n",
       "      <td>2.100000e-06</td>\n",
       "      <td>0.095857</td>\n",
       "      <td>0.001472</td>\n",
       "      <td>Rejected</td>\n",
       "    </tr>\n",
       "    <tr>\n",
       "      <th>11</th>\n",
       "      <td>2.300000e-06</td>\n",
       "      <td>0.095857</td>\n",
       "      <td>0.001467</td>\n",
       "      <td>Rejected</td>\n",
       "    </tr>\n",
       "    <tr>\n",
       "      <th>12</th>\n",
       "      <td>2.500000e-06</td>\n",
       "      <td>0.095857</td>\n",
       "      <td>0.001462</td>\n",
       "      <td>Rejected</td>\n",
       "    </tr>\n",
       "    <tr>\n",
       "      <th>13</th>\n",
       "      <td>2.700000e-06</td>\n",
       "      <td>0.095857</td>\n",
       "      <td>0.001458</td>\n",
       "      <td>Rejected</td>\n",
       "    </tr>\n",
       "    <tr>\n",
       "      <th>14</th>\n",
       "      <td>2.900000e-06</td>\n",
       "      <td>0.095857</td>\n",
       "      <td>0.001454</td>\n",
       "      <td>Rejected</td>\n",
       "    </tr>\n",
       "    <tr>\n",
       "      <th>15</th>\n",
       "      <td>3.100000e-06</td>\n",
       "      <td>0.095857</td>\n",
       "      <td>0.001451</td>\n",
       "      <td>Rejected</td>\n",
       "    </tr>\n",
       "    <tr>\n",
       "      <th>16</th>\n",
       "      <td>3.300000e-06</td>\n",
       "      <td>0.095857</td>\n",
       "      <td>0.001447</td>\n",
       "      <td>Rejected</td>\n",
       "    </tr>\n",
       "    <tr>\n",
       "      <th>17</th>\n",
       "      <td>3.500000e-06</td>\n",
       "      <td>0.095857</td>\n",
       "      <td>0.001444</td>\n",
       "      <td>Rejected</td>\n",
       "    </tr>\n",
       "    <tr>\n",
       "      <th>18</th>\n",
       "      <td>3.700000e-06</td>\n",
       "      <td>0.095857</td>\n",
       "      <td>0.001441</td>\n",
       "      <td>Rejected</td>\n",
       "    </tr>\n",
       "    <tr>\n",
       "      <th>19</th>\n",
       "      <td>3.900000e-06</td>\n",
       "      <td>0.095857</td>\n",
       "      <td>0.001438</td>\n",
       "      <td>Rejected</td>\n",
       "    </tr>\n",
       "    <tr>\n",
       "      <th>20</th>\n",
       "      <td>4.100000e-06</td>\n",
       "      <td>0.095857</td>\n",
       "      <td>0.001435</td>\n",
       "      <td>Rejected</td>\n",
       "    </tr>\n",
       "    <tr>\n",
       "      <th>21</th>\n",
       "      <td>4.300000e-06</td>\n",
       "      <td>0.095857</td>\n",
       "      <td>0.001433</td>\n",
       "      <td>Rejected</td>\n",
       "    </tr>\n",
       "    <tr>\n",
       "      <th>22</th>\n",
       "      <td>4.500000e-06</td>\n",
       "      <td>0.095857</td>\n",
       "      <td>0.001430</td>\n",
       "      <td>Rejected</td>\n",
       "    </tr>\n",
       "    <tr>\n",
       "      <th>23</th>\n",
       "      <td>4.700000e-06</td>\n",
       "      <td>0.095857</td>\n",
       "      <td>0.001428</td>\n",
       "      <td>Rejected</td>\n",
       "    </tr>\n",
       "    <tr>\n",
       "      <th>24</th>\n",
       "      <td>4.900000e-06</td>\n",
       "      <td>0.095857</td>\n",
       "      <td>0.001426</td>\n",
       "      <td>Rejected</td>\n",
       "    </tr>\n",
       "  </tbody>\n",
       "</table>\n",
       "</div>"
      ],
      "text/plain": [
       "           Alpha         D       RHS Null Hypothesis\n",
       "0   1.000000e-07  0.095857  0.001626        Rejected\n",
       "1   3.000000e-07  0.095857  0.001572        Rejected\n",
       "2   5.000000e-07  0.095857  0.001546        Rejected\n",
       "3   7.000000e-07  0.095857  0.001529        Rejected\n",
       "4   9.000000e-07  0.095857  0.001516        Rejected\n",
       "5   1.100000e-06  0.095857  0.001506        Rejected\n",
       "6   1.300000e-06  0.095857  0.001497        Rejected\n",
       "7   1.500000e-06  0.095857  0.001489        Rejected\n",
       "8   1.700000e-06  0.095857  0.001483        Rejected\n",
       "9   1.900000e-06  0.095857  0.001477        Rejected\n",
       "10  2.100000e-06  0.095857  0.001472        Rejected\n",
       "11  2.300000e-06  0.095857  0.001467        Rejected\n",
       "12  2.500000e-06  0.095857  0.001462        Rejected\n",
       "13  2.700000e-06  0.095857  0.001458        Rejected\n",
       "14  2.900000e-06  0.095857  0.001454        Rejected\n",
       "15  3.100000e-06  0.095857  0.001451        Rejected\n",
       "16  3.300000e-06  0.095857  0.001447        Rejected\n",
       "17  3.500000e-06  0.095857  0.001444        Rejected\n",
       "18  3.700000e-06  0.095857  0.001441        Rejected\n",
       "19  3.900000e-06  0.095857  0.001438        Rejected\n",
       "20  4.100000e-06  0.095857  0.001435        Rejected\n",
       "21  4.300000e-06  0.095857  0.001433        Rejected\n",
       "22  4.500000e-06  0.095857  0.001430        Rejected\n",
       "23  4.700000e-06  0.095857  0.001428        Rejected\n",
       "24  4.900000e-06  0.095857  0.001426        Rejected"
      ]
     },
     "execution_count": 23,
     "metadata": {},
     "output_type": "execute_result"
    }
   ],
   "source": [
    "D,pval=stats.ks_2samp(np.array(data['Distance']),np.array(df_norm['Sample1']))\n",
    "print('D: ',D)\n",
    "print('pval: ',pval)\n",
    "alpha(None,None,False,D,len(data),len(df_norm),dt)"
   ]
  },
  {
   "cell_type": "markdown",
   "metadata": {},
   "source": [
    "We can observe from the above data that the approximation of 50 bins to replace the continuous cdf and to do KStest on the 50 bins gives us poor results. When we did the same operation considering the whole array and then the inbuilt function of kstest we found pval=0.0 and D=0.09535. From this we can say that if $c(\\alpha)\\sqrt{\\dfrac{n+m}{nm}}$  is less than D then we reject the null hypothesis where $c(\\alpha)=\\sqrt{\\dfrac{-\\ln{(a/2)}}{2}}$ and n,m are the size of the two data arrays into consideration.\n",
    "\n",
    "**From the inbuilt function be got D=0.09591 which is way less than the one obtained using the CDF thereby giving a tighter bound on the value of alpha. So, we can conclude that the value of alpha, above which we can reject the null hypothesis, is way less than 5e-07 which we got from above.**"
   ]
  },
  {
   "cell_type": "markdown",
   "metadata": {},
   "source": [
    "## Second file"
   ]
  },
  {
   "cell_type": "code",
   "execution_count": 24,
   "metadata": {
    "scrolled": true
   },
   "outputs": [
    {
     "data": {
      "text/html": [
       "<div>\n",
       "<style scoped>\n",
       "    .dataframe tbody tr th:only-of-type {\n",
       "        vertical-align: middle;\n",
       "    }\n",
       "\n",
       "    .dataframe tbody tr th {\n",
       "        vertical-align: top;\n",
       "    }\n",
       "\n",
       "    .dataframe thead th {\n",
       "        text-align: right;\n",
       "    }\n",
       "</style>\n",
       "<table border=\"1\" class=\"dataframe\">\n",
       "  <thead>\n",
       "    <tr style=\"text-align: right;\">\n",
       "      <th></th>\n",
       "      <th>Year</th>\n",
       "      <th>Month</th>\n",
       "      <th>DayofMonth</th>\n",
       "      <th>DayOfWeek</th>\n",
       "      <th>DepTime</th>\n",
       "      <th>CRSDepTime</th>\n",
       "      <th>ArrTime</th>\n",
       "      <th>CRSArrTime</th>\n",
       "      <th>UniqueCarrier</th>\n",
       "      <th>FlightNum</th>\n",
       "      <th>...</th>\n",
       "      <th>TaxiOut</th>\n",
       "      <th>Cancelled</th>\n",
       "      <th>CancellationCode</th>\n",
       "      <th>Diverted</th>\n",
       "      <th>CarrierDelay</th>\n",
       "      <th>WeatherDelay</th>\n",
       "      <th>NASDelay</th>\n",
       "      <th>SecurityDelay</th>\n",
       "      <th>LateAircraftDelay</th>\n",
       "      <th>Age</th>\n",
       "    </tr>\n",
       "  </thead>\n",
       "  <tbody>\n",
       "    <tr>\n",
       "      <th>0</th>\n",
       "      <td>2008</td>\n",
       "      <td>1</td>\n",
       "      <td>3</td>\n",
       "      <td>4</td>\n",
       "      <td>2003</td>\n",
       "      <td>1955</td>\n",
       "      <td>2211</td>\n",
       "      <td>2225</td>\n",
       "      <td>-2147483648</td>\n",
       "      <td>335</td>\n",
       "      <td>...</td>\n",
       "      <td>8</td>\n",
       "      <td>0</td>\n",
       "      <td>-2147483648</td>\n",
       "      <td>0</td>\n",
       "      <td>-2147483648</td>\n",
       "      <td>-2147483648</td>\n",
       "      <td>-2147483648</td>\n",
       "      <td>-2147483648</td>\n",
       "      <td>-2147483648</td>\n",
       "      <td>-2147483648</td>\n",
       "    </tr>\n",
       "    <tr>\n",
       "      <th>1</th>\n",
       "      <td>2008</td>\n",
       "      <td>1</td>\n",
       "      <td>3</td>\n",
       "      <td>4</td>\n",
       "      <td>754</td>\n",
       "      <td>735</td>\n",
       "      <td>1002</td>\n",
       "      <td>1000</td>\n",
       "      <td>-2147483648</td>\n",
       "      <td>3231</td>\n",
       "      <td>...</td>\n",
       "      <td>10</td>\n",
       "      <td>0</td>\n",
       "      <td>-2147483648</td>\n",
       "      <td>0</td>\n",
       "      <td>-2147483648</td>\n",
       "      <td>-2147483648</td>\n",
       "      <td>-2147483648</td>\n",
       "      <td>-2147483648</td>\n",
       "      <td>-2147483648</td>\n",
       "      <td>-2147483648</td>\n",
       "    </tr>\n",
       "    <tr>\n",
       "      <th>2</th>\n",
       "      <td>2008</td>\n",
       "      <td>1</td>\n",
       "      <td>3</td>\n",
       "      <td>4</td>\n",
       "      <td>628</td>\n",
       "      <td>620</td>\n",
       "      <td>804</td>\n",
       "      <td>750</td>\n",
       "      <td>-2147483648</td>\n",
       "      <td>448</td>\n",
       "      <td>...</td>\n",
       "      <td>17</td>\n",
       "      <td>0</td>\n",
       "      <td>-2147483648</td>\n",
       "      <td>0</td>\n",
       "      <td>-2147483648</td>\n",
       "      <td>-2147483648</td>\n",
       "      <td>-2147483648</td>\n",
       "      <td>-2147483648</td>\n",
       "      <td>-2147483648</td>\n",
       "      <td>-2147483648</td>\n",
       "    </tr>\n",
       "    <tr>\n",
       "      <th>3</th>\n",
       "      <td>2008</td>\n",
       "      <td>1</td>\n",
       "      <td>3</td>\n",
       "      <td>4</td>\n",
       "      <td>926</td>\n",
       "      <td>930</td>\n",
       "      <td>1054</td>\n",
       "      <td>1100</td>\n",
       "      <td>-2147483648</td>\n",
       "      <td>1746</td>\n",
       "      <td>...</td>\n",
       "      <td>7</td>\n",
       "      <td>0</td>\n",
       "      <td>-2147483648</td>\n",
       "      <td>0</td>\n",
       "      <td>-2147483648</td>\n",
       "      <td>-2147483648</td>\n",
       "      <td>-2147483648</td>\n",
       "      <td>-2147483648</td>\n",
       "      <td>-2147483648</td>\n",
       "      <td>-2147483648</td>\n",
       "    </tr>\n",
       "    <tr>\n",
       "      <th>4</th>\n",
       "      <td>2008</td>\n",
       "      <td>1</td>\n",
       "      <td>3</td>\n",
       "      <td>4</td>\n",
       "      <td>1829</td>\n",
       "      <td>1755</td>\n",
       "      <td>1959</td>\n",
       "      <td>1925</td>\n",
       "      <td>-2147483648</td>\n",
       "      <td>3920</td>\n",
       "      <td>...</td>\n",
       "      <td>10</td>\n",
       "      <td>0</td>\n",
       "      <td>-2147483648</td>\n",
       "      <td>0</td>\n",
       "      <td>2</td>\n",
       "      <td>0</td>\n",
       "      <td>0</td>\n",
       "      <td>0</td>\n",
       "      <td>32</td>\n",
       "      <td>-2147483648</td>\n",
       "    </tr>\n",
       "  </tbody>\n",
       "</table>\n",
       "<p>5 rows × 30 columns</p>\n",
       "</div>"
      ],
      "text/plain": [
       "   Year  Month  DayofMonth  DayOfWeek  DepTime  CRSDepTime  ArrTime  \\\n",
       "0  2008      1           3          4     2003        1955     2211   \n",
       "1  2008      1           3          4      754         735     1002   \n",
       "2  2008      1           3          4      628         620      804   \n",
       "3  2008      1           3          4      926         930     1054   \n",
       "4  2008      1           3          4     1829        1755     1959   \n",
       "\n",
       "   CRSArrTime  UniqueCarrier  FlightNum     ...      TaxiOut  Cancelled  \\\n",
       "0        2225    -2147483648        335     ...            8          0   \n",
       "1        1000    -2147483648       3231     ...           10          0   \n",
       "2         750    -2147483648        448     ...           17          0   \n",
       "3        1100    -2147483648       1746     ...            7          0   \n",
       "4        1925    -2147483648       3920     ...           10          0   \n",
       "\n",
       "   CancellationCode  Diverted  CarrierDelay  WeatherDelay    NASDelay  \\\n",
       "0       -2147483648         0   -2147483648   -2147483648 -2147483648   \n",
       "1       -2147483648         0   -2147483648   -2147483648 -2147483648   \n",
       "2       -2147483648         0   -2147483648   -2147483648 -2147483648   \n",
       "3       -2147483648         0   -2147483648   -2147483648 -2147483648   \n",
       "4       -2147483648         0             2             0           0   \n",
       "\n",
       "   SecurityDelay  LateAircraftDelay         Age  \n",
       "0    -2147483648        -2147483648 -2147483648  \n",
       "1    -2147483648        -2147483648 -2147483648  \n",
       "2    -2147483648        -2147483648 -2147483648  \n",
       "3    -2147483648        -2147483648 -2147483648  \n",
       "4              0                 32 -2147483648  \n",
       "\n",
       "[5 rows x 30 columns]"
      ]
     },
     "execution_count": 24,
     "metadata": {},
     "output_type": "execute_result"
    }
   ],
   "source": [
    "col=[\"Year\", \"Month\", \"DayofMonth\", \"DayOfWeek\", \n",
    "    \"DepTime\", \"CRSDepTime\", \"ArrTime\", \"CRSArrTime\", \"UniqueCarrier\", \n",
    "    \"FlightNum\", \"TailNum\", \"ActualElapsedTime\", \"CRSElapsedTime\", \n",
    "    \"AirTime\", \"ArrDelay\", \"DepDelay\", \"Origin\", \"Dest\", \"Distance\", \n",
    "    \"TaxiIn\", \"TaxiOut\", \"Cancelled\", \"CancellationCode\", \"Diverted\", \n",
    "    \"CarrierDelay\", \"WeatherDelay\", \"NASDelay\", \"SecurityDelay\", \n",
    "    \"LateAircraftDelay\", \"Age\"];\n",
    "T = np.fromfile('airline.bin',int); \n",
    "t=pd.Series(T)\n",
    "temp=t.values\n",
    "data=temp.reshape((30,7009728))\n",
    "df=pd.DataFrame(data)\n",
    "df=df.transpose()\n",
    "\n",
    "df.columns=col\n",
    "df.head()"
   ]
  },
  {
   "cell_type": "code",
   "execution_count": 25,
   "metadata": {},
   "outputs": [
    {
     "data": {
      "text/html": [
       "<div>\n",
       "<style scoped>\n",
       "    .dataframe tbody tr th:only-of-type {\n",
       "        vertical-align: middle;\n",
       "    }\n",
       "\n",
       "    .dataframe tbody tr th {\n",
       "        vertical-align: top;\n",
       "    }\n",
       "\n",
       "    .dataframe thead th {\n",
       "        text-align: right;\n",
       "    }\n",
       "</style>\n",
       "<table border=\"1\" class=\"dataframe\">\n",
       "  <thead>\n",
       "    <tr style=\"text-align: right;\">\n",
       "      <th></th>\n",
       "      <th>AirTime</th>\n",
       "      <th>Distance</th>\n",
       "    </tr>\n",
       "  </thead>\n",
       "  <tbody>\n",
       "    <tr>\n",
       "      <th>0</th>\n",
       "      <td>116</td>\n",
       "      <td>810</td>\n",
       "    </tr>\n",
       "    <tr>\n",
       "      <th>1</th>\n",
       "      <td>113</td>\n",
       "      <td>810</td>\n",
       "    </tr>\n",
       "    <tr>\n",
       "      <th>2</th>\n",
       "      <td>76</td>\n",
       "      <td>515</td>\n",
       "    </tr>\n",
       "    <tr>\n",
       "      <th>3</th>\n",
       "      <td>78</td>\n",
       "      <td>515</td>\n",
       "    </tr>\n",
       "    <tr>\n",
       "      <th>4</th>\n",
       "      <td>77</td>\n",
       "      <td>515</td>\n",
       "    </tr>\n",
       "  </tbody>\n",
       "</table>\n",
       "</div>"
      ],
      "text/plain": [
       "   AirTime  Distance\n",
       "0      116       810\n",
       "1      113       810\n",
       "2       76       515\n",
       "3       78       515\n",
       "4       77       515"
      ]
     },
     "execution_count": 25,
     "metadata": {},
     "output_type": "execute_result"
    }
   ],
   "source": [
    "newdata=df[['AirTime','Distance']]\n",
    "newdata.head()"
   ]
  },
  {
   "cell_type": "markdown",
   "metadata": {},
   "source": [
    "The airline.bin file was loaded using integer datatype hence, the nan values will be converted to garbage values.\n",
    "\n",
    "**Otherwise on comparing the two dataFrames we could see that both the files are the same and hence the underlying analysis would give us the same output.**"
   ]
  }
 ],
 "metadata": {
  "kernelspec": {
   "display_name": "Python 3",
   "language": "python",
   "name": "python3"
  },
  "language_info": {
   "codemirror_mode": {
    "name": "ipython",
    "version": 3
   },
   "file_extension": ".py",
   "mimetype": "text/x-python",
   "name": "python",
   "nbconvert_exporter": "python",
   "pygments_lexer": "ipython3",
   "version": "3.7.1"
  }
 },
 "nbformat": 4,
 "nbformat_minor": 2
}
