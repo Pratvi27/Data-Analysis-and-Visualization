{
 "cells": [
  {
   "cell_type": "markdown",
   "metadata": {},
   "source": [
    "# CS306: Data Analysis and Visualization\n",
    "\n",
    "### Assignment 2\n",
    "---\n",
    "\n",
    "\n",
    "**Name: Pratvi Shah**\n",
    "\n",
    "\n",
    "**Student ID: 201801407**"
   ]
  },
  {
   "cell_type": "code",
   "execution_count": 2,
   "metadata": {},
   "outputs": [],
   "source": [
    "import seaborn as sns\n",
    "import csv\n",
    "import matplotlib.pyplot as plt\n",
    "import numpy as np\n",
    "from matplotlib import colors \n",
    "import pandas as pd\n",
    "from scipy import stats\n",
    "from scipy.stats import multivariate_normal\n",
    "from sklearn.linear_model import LinearRegression,RANSACRegressor\n",
    "from scipy.optimize import curve_fit,least_squares\n",
    "import math\n",
    "import random\n",
    "from matplotlib import cm\n",
    "from sklearn.metrics import r2_score\n",
    "from sklearn.metrics import mean_squared_error, r2_score\n",
    "import statsmodels.api as sm\n",
    "from statsmodels.formula.api import ols\n",
    "\n",
    "%matplotlib inline\n",
    "import warnings\n",
    "warnings.filterwarnings(\"ignore\")"
   ]
  },
  {
   "cell_type": "markdown",
   "metadata": {},
   "source": [
    "# Q1"
   ]
  },
  {
   "cell_type": "code",
   "execution_count": 50,
   "metadata": {},
   "outputs": [],
   "source": [
    "\n",
    "x=[0 ,1 ,3 ,3 ,4 ,5 ,5 ,6]\n",
    "y=[2 ,3 ,3 ,4 ,5 ,6 ,7 ,7]\n"
   ]
  },
  {
   "cell_type": "markdown",
   "metadata": {},
   "source": [
    "## Q1 a)"
   ]
  },
  {
   "cell_type": "code",
   "execution_count": 6,
   "metadata": {},
   "outputs": [],
   "source": [
    "def get_slope_const(x,y,mu_x,mu_y):\n",
    "    N = np.sum((x-mu_x)*(y-mu_y))\n",
    "    D = np.sum((x-mu_x)*(x-mu_x))\n",
    "    beta1 = N/D\n",
    "\n",
    "    beta0= mu_y - beta1*mu_x \n",
    "    \n",
    "    return beta0,beta1"
   ]
  },
  {
   "cell_type": "code",
   "execution_count": 7,
   "metadata": {},
   "outputs": [],
   "source": [
    "mu_x=np.mean(x)\n",
    "mu_y=np.mean(y)"
   ]
  },
  {
   "cell_type": "code",
   "execution_count": 8,
   "metadata": {},
   "outputs": [
    {
     "name": "stdout",
     "output_type": "stream",
     "text": [
      "Mean of x: 3.375\n",
      "Mean of y: 4.625\n",
      "Standard deviation of x: 1.9324531042175384\n",
      "Standard deviation of y: 1.79843682124227\n"
     ]
    }
   ],
   "source": [
    "print('Mean of x:',mu_x)\n",
    "print('Mean of y:',mu_y)\n",
    "print('Standard deviation of x:',np.std(x))\n",
    "print('Standard deviation of y:',np.std(y))"
   ]
  },
  {
   "cell_type": "code",
   "execution_count": 9,
   "metadata": {
    "scrolled": true
   },
   "outputs": [
    {
     "name": "stdout",
     "output_type": "stream",
     "text": [
      "beta0 =  1.6736401673640167\n",
      "beta1 =  0.8744769874476988\n"
     ]
    }
   ],
   "source": [
    "beta0,beta1 = get_slope_const(x,y,mu_x,mu_y)\n",
    "print('beta0 = ',beta0)\n",
    "print('beta1 = ',beta1)\n"
   ]
  },
  {
   "cell_type": "code",
   "execution_count": 10,
   "metadata": {},
   "outputs": [],
   "source": [
    "ypred = [beta0 + x[i]*beta1 for i in range(len(x))]"
   ]
  },
  {
   "cell_type": "code",
   "execution_count": 11,
   "metadata": {},
   "outputs": [
    {
     "name": "stdout",
     "output_type": "stream",
     "text": [
      "RMSE of y and ypred:  0.6153544408437377\n",
      "R squared:  0.882926040466517\n"
     ]
    }
   ],
   "source": [
    "rmse=np.sqrt(mean_squared_error(y,ypred))\n",
    "print('RMSE of y and ypred: ',rmse)\n",
    "r2=r2_score(y,ypred)\n",
    "print('R squared: ',r2)"
   ]
  },
  {
   "cell_type": "code",
   "execution_count": 12,
   "metadata": {},
   "outputs": [
    {
     "data": {
      "text/plain": [
       "<matplotlib.legend.Legend at 0x1fe537efa90>"
      ]
     },
     "execution_count": 12,
     "metadata": {},
     "output_type": "execute_result"
    },
    {
     "data": {
      "image/png": "[encoded data removed]",
      "text/plain": [
       "<Figure size 576x360 with 1 Axes>"
      ]
     },
     "metadata": {
      "needs_background": "light"
     },
     "output_type": "display_data"
    }
   ],
   "source": [
    "plt.figure(figsize=[8,5])\n",
    "plt.scatter(x,y,marker='o',label='Given data')\n",
    "plt.plot(x,ypred,'r-',label='OLS fit')\n",
    "plt.xlabel('X',fontsize=15)\n",
    "plt.ylabel('Y',fontsize=15)\n",
    "plt.title('OLS fit for data',fontsize=15)\n",
    "plt.grid()\n",
    "plt.legend(fontsize=12)"
   ]
  },
  {
   "cell_type": "markdown",
   "metadata": {},
   "source": [
    "## Q1 b)"
   ]
  },
  {
   "cell_type": "code",
   "execution_count": 13,
   "metadata": {},
   "outputs": [],
   "source": [
    "x_normalized = (x-mu_x)/np.std(x)\n",
    "y_normalized = (y-mu_y)/np.std(y)"
   ]
  },
  {
   "cell_type": "code",
   "execution_count": 14,
   "metadata": {},
   "outputs": [
    {
     "name": "stdout",
     "output_type": "stream",
     "text": [
      "after normalization beta0 =  0.0\n",
      "after normalization beta1 =  0.9396414425016155\n"
     ]
    }
   ],
   "source": [
    "b0,b1 = get_slope_const(x_normalized,y_normalized,0,0)\n",
    "print('after normalization beta0 = ',b0)\n",
    "print('after normalization beta1 = ',b1)\n"
   ]
  },
  {
   "cell_type": "code",
   "execution_count": 15,
   "metadata": {},
   "outputs": [],
   "source": [
    "y_pred_normalized = [b0 + x_normalized[i]*b1 for i in range(len(x_normalized))]"
   ]
  },
  {
   "cell_type": "code",
   "execution_count": 16,
   "metadata": {},
   "outputs": [
    {
     "name": "stdout",
     "output_type": "stream",
     "text": [
      "RMSE of y_normalized and y_pred_normalized:  0.34216072178653545\n",
      "R squared: 0.8829260404665171\n"
     ]
    }
   ],
   "source": [
    "rmse_norm=np.sqrt(mean_squared_error(y_normalized,y_pred_normalized))\n",
    "print('RMSE of y_normalized and y_pred_normalized: ',rmse_norm)\n",
    "r2_n=r2_score(y_normalized,y_pred_normalized)\n",
    "print('R squared:',r2_n)"
   ]
  },
  {
   "cell_type": "code",
   "execution_count": 17,
   "metadata": {},
   "outputs": [
    {
     "data": {
      "text/plain": [
       "<matplotlib.legend.Legend at 0x1fe53784630>"
      ]
     },
     "execution_count": 17,
     "metadata": {},
     "output_type": "execute_result"
    },
    {
     "data": {
      "image/png": "[encoded data removed]",
      "text/plain": [
       "<Figure size 576x360 with 1 Axes>"
      ]
     },
     "metadata": {
      "needs_background": "light"
     },
     "output_type": "display_data"
    }
   ],
   "source": [
    "plt.figure(figsize=[8,5])\n",
    "plt.scatter(x_normalized,y_normalized,marker='o',label='Given data')\n",
    "plt.plot(x_normalized,y_pred_normalized,'r-',label='OLS fit')\n",
    "plt.xlabel('X',fontsize=15)\n",
    "plt.ylabel('Y',fontsize=15)\n",
    "plt.title('OLS fit for normalized data',fontsize=15)\n",
    "plt.grid()\n",
    "plt.legend(fontsize=12)"
   ]
  },
  {
   "cell_type": "markdown",
   "metadata": {},
   "source": [
    "### Q1 c)"
   ]
  },
  {
   "cell_type": "code",
   "execution_count": 27,
   "metadata": {},
   "outputs": [
    {
     "name": "stdout",
     "output_type": "stream",
     "text": [
      "[0, 1, 3, 3, 4, 5, 5, 6, 12]\n",
      "[2, 3, 3, 4, 5, 6, 7, 7, -100]\n"
     ]
    }
   ],
   "source": [
    "out_x = 12\n",
    "out_y = -100\n",
    "x.append(out_x)\n",
    "y.append(out_y)\n",
    "print(x)\n",
    "print(y)"
   ]
  },
  {
   "cell_type": "code",
   "execution_count": 19,
   "metadata": {},
   "outputs": [
    {
     "data": {
      "image/png": "[encoded data removed]",
      "text/plain": [
       "<Figure size 432x288 with 1 Axes>"
      ]
     },
     "metadata": {
      "needs_background": "light"
     },
     "output_type": "display_data"
    },
    {
     "data": {
      "image/png": "[encoded data removed]",
      "text/plain": [
       "<Figure size 432x288 with 1 Axes>"
      ]
     },
     "metadata": {
      "needs_background": "light"
     },
     "output_type": "display_data"
    }
   ],
   "source": [
    "plt.xlabel('X')\n",
    "plt.boxplot(x)\n",
    "plt.show()\n",
    "plt.xlabel('Y')\n",
    "plt.boxplot(y)\n",
    "plt.show()"
   ]
  },
  {
   "cell_type": "markdown",
   "metadata": {},
   "source": [
    "### Q1 d)"
   ]
  },
  {
   "cell_type": "markdown",
   "metadata": {},
   "source": [
    "### RANSAC Pseudo code\n",
    "\n",
    "     itr_max= specify the number of iterations\n",
    "     n= 2 # >=2 elements needed to get a linear fit \n",
    "     init_p= initial probability to tolerate outliers \n",
    "     err= error tolerance for outliers\n",
    " \n",
    "     do:\n",
    "    \n",
    "        temp_data= select n random samples out of the data\n",
    "        temp_fit= get fit of temp_data i.e., slope and intercept in case of line\n",
    "        predicted= predicted values of data using temp_fit paramenters\n",
    "        inliers=[]\n",
    "        inlier_count=0\n",
    "\n",
    "        for sample in data:\n",
    "            if error between sample and predicted < err:\n",
    "                sample is an inlier \n",
    "                add sample to inliners\n",
    "                inlier_count++\n",
    "            end if\n",
    "        end for\n",
    "\n",
    "        fit_err = (data_size-inliner_count)/data_size\n",
    "        if fit_err < init_p:\n",
    "            init_p= fit_err\n",
    "            good_fit= temp_fit\n",
    "            iter_count++\n",
    "         end if\n",
    "\n",
    "     while iter_count<itr_max \n",
    "\n",
    "     ans = good_fit"
   ]
  },
  {
   "cell_type": "code",
   "execution_count": 41,
   "metadata": {},
   "outputs": [
    {
     "data": {
      "text/plain": [
       "array([-1])"
      ]
     },
     "execution_count": 41,
     "metadata": {},
     "output_type": "execute_result"
    }
   ],
   "source": [
    "x_axis"
   ]
  },
  {
   "cell_type": "code",
   "execution_count": 48,
   "metadata": {},
   "outputs": [
    {
     "data": {
      "image/png": "[encoded data removed]",
      "text/plain": [
       "<Figure size 576x360 with 1 Axes>"
      ]
     },
     "metadata": {
      "needs_background": "light"
     },
     "output_type": "display_data"
    }
   ],
   "source": [
    "x=[0, 1, 3, 3, 4, 5, 5, 6, 12]\n",
    "y=[2, 3, 3, 4, 5, 6, 7, 7, -100]\n",
    "\n",
    "x_axis=np.array(x)\n",
    "x_axis=x_axis.reshape(-1, 1)\n",
    "\n",
    "\n",
    "plt.figure(figsize=[8,5])\n",
    "l_reg = LinearRegression()\n",
    "ypred_lr = l_reg.fit(x_axis,np.array(y))\n",
    "ypred_lr=ypred_lr.predict(x_axis)\n",
    "plt.plot(x,ypred_lr,'r--',label='OLS fit')\n",
    "ransac= RANSACRegressor()\n",
    "ypred_ransac = ransac.fit(x_axis,np.array(y))\n",
    "ypred_ransac = ypred_ransac.predict(x_axis)\n",
    "plt.plot(x_axis,ypred_ransac,'b--',label='RANSAC fit')\n",
    "plt.plot(x,y,'ko',label='Given data')\n",
    "plt.legend(fontsize=12)\n",
    "plt.xlabel('X',fontsize=12)\n",
    "plt.ylabel('Y',fontsize=12)\n",
    "plt.grid()"
   ]
  },
  {
   "cell_type": "markdown",
   "metadata": {},
   "source": [
    "### Q1 f)"
   ]
  },
  {
   "cell_type": "code",
   "execution_count": 51,
   "metadata": {},
   "outputs": [],
   "source": [
    "x2 = [x[i]*x[i] for i in range(len(x))]\n",
    "A = np.array([x2 , x , np.ones(len(x))])\n",
    "Aty=np.matmul(A,y)\n",
    "AtA=np.matmul(A,A.transpose())\n",
    "A_pseudo_inv=np.linalg.inv(AtA)"
   ]
  },
  {
   "cell_type": "code",
   "execution_count": 52,
   "metadata": {},
   "outputs": [
    {
     "data": {
      "text/plain": [
       "(0.09841211225996682, 0.29265140324964456, 2.1488183161004386)"
      ]
     },
     "execution_count": 52,
     "metadata": {},
     "output_type": "execute_result"
    }
   ],
   "source": [
    "ans= np.matmul(A_pseudo_inv,Aty)#np.linalg.lstsq(B,rhs)\n",
    "ans[0],ans[1],ans[2]"
   ]
  },
  {
   "cell_type": "code",
   "execution_count": 53,
   "metadata": {},
   "outputs": [],
   "source": [
    "y_p = [x[i]*x[i]*ans[0] + x[i]*ans[1] + ans[2] for i in range(len(x))]"
   ]
  },
  {
   "cell_type": "code",
   "execution_count": 54,
   "metadata": {},
   "outputs": [
    {
     "name": "stdout",
     "output_type": "stream",
     "text": [
      "RMSE of y and y_p:  0.5185801830034008\n",
      "R squared: 0.9168539806906\n"
     ]
    }
   ],
   "source": [
    "rmse_p=np.sqrt(mean_squared_error(y,y_p))\n",
    "print('RMSE of y and y_p: ',rmse_p)\n",
    "r2_p=r2_score(y,y_p)\n",
    "print('R squared:',r2_p)"
   ]
  },
  {
   "cell_type": "code",
   "execution_count": 55,
   "metadata": {},
   "outputs": [
    {
     "data": {
      "text/plain": [
       "<matplotlib.legend.Legend at 0x1fe550ddd68>"
      ]
     },
     "execution_count": 55,
     "metadata": {},
     "output_type": "execute_result"
    },
    {
     "data": {
      "image/png": "[encoded data removed]",
      "text/plain": [
       "<Figure size 576x360 with 1 Axes>"
      ]
     },
     "metadata": {
      "needs_background": "light"
     },
     "output_type": "display_data"
    }
   ],
   "source": [
    "plt.figure(figsize=[8,5])\n",
    "x_axis=np.arange(min(x),max(x)+1)\n",
    "y_p_temp=ans[0]*x_axis*x_axis + ans[1]*x_axis + ans[2]\n",
    "plt.scatter(x,y,marker='o',label='Given data')\n",
    "plt.plot(x_axis,y_p_temp,'r-',label='OLS fit')\n",
    "plt.xlabel('X',fontsize=15)\n",
    "plt.ylabel('Y',fontsize=15)\n",
    "plt.title('Parabola fit for data using OLS',fontsize=15)\n",
    "plt.grid()\n",
    "plt.legend(fontsize=12)"
   ]
  },
  {
   "cell_type": "markdown",
   "metadata": {},
   "source": [
    "# Q2"
   ]
  },
  {
   "cell_type": "code",
   "execution_count": 50,
   "metadata": {},
   "outputs": [],
   "source": [
    "m=[[12 ,-4, 0, 0 ,0],[4 ,12 ,0 ,0 ,0],[0 ,0 ,2 ,0 ,0],[0 ,0 ,0 ,1 ,-1],[0 ,0 ,0 ,-1 ,1]]\n",
    "m=np.array(m)"
   ]
  },
  {
   "cell_type": "markdown",
   "metadata": {},
   "source": [
    "### Q2 b)"
   ]
  },
  {
   "cell_type": "code",
   "execution_count": 51,
   "metadata": {},
   "outputs": [
    {
     "data": {
      "text/plain": [
       "array([[160,   0,   0,   0,   0],\n",
       "       [  0, 160,   0,   0,   0],\n",
       "       [  0,   0,   4,   0,   0],\n",
       "       [  0,   0,   0,   2,  -2],\n",
       "       [  0,   0,   0,  -2,   2]])"
      ]
     },
     "execution_count": 51,
     "metadata": {},
     "output_type": "execute_result"
    }
   ],
   "source": [
    "mmT=np.matmul(m.T,m)\n",
    "mmT"
   ]
  },
  {
   "cell_type": "markdown",
   "metadata": {},
   "source": [
    "### Q2 c)"
   ]
  },
  {
   "cell_type": "code",
   "execution_count": 52,
   "metadata": {},
   "outputs": [],
   "source": [
    "eig_values,eig_vectors = np.linalg.eig(mmT)"
   ]
  },
  {
   "cell_type": "code",
   "execution_count": 53,
   "metadata": {},
   "outputs": [
    {
     "data": {
      "text/plain": [
       "array([4.0000000e+00, 4.4408921e-16, 1.6000000e+02, 1.6000000e+02,\n",
       "       4.0000000e+00])"
      ]
     },
     "execution_count": 53,
     "metadata": {},
     "output_type": "execute_result"
    }
   ],
   "source": [
    "eig_values"
   ]
  },
  {
   "cell_type": "code",
   "execution_count": 54,
   "metadata": {},
   "outputs": [
    {
     "data": {
      "text/plain": [
       "array([[ 0.        ,  0.        ,  1.        ,  0.        ,  0.        ],\n",
       "       [ 0.        ,  0.        ,  0.        ,  1.        ,  0.        ],\n",
       "       [ 0.        ,  0.        ,  0.        ,  0.        ,  1.        ],\n",
       "       [-0.70710678,  0.70710678,  0.        ,  0.        ,  0.        ],\n",
       "       [ 0.70710678,  0.70710678,  0.        ,  0.        ,  0.        ]])"
      ]
     },
     "execution_count": 54,
     "metadata": {},
     "output_type": "execute_result"
    }
   ],
   "source": [
    "eig_vectors"
   ]
  },
  {
   "cell_type": "code",
   "execution_count": 67,
   "metadata": {},
   "outputs": [
    {
     "data": {
      "text/html": [
       "<div>\n",
       "<style scoped>\n",
       "    .dataframe tbody tr th:only-of-type {\n",
       "        vertical-align: middle;\n",
       "    }\n",
       "\n",
       "    .dataframe tbody tr th {\n",
       "        vertical-align: top;\n",
       "    }\n",
       "\n",
       "    .dataframe thead th {\n",
       "        text-align: right;\n",
       "    }\n",
       "</style>\n",
       "<table border=\"1\" class=\"dataframe\">\n",
       "  <thead>\n",
       "    <tr style=\"text-align: right;\">\n",
       "      <th></th>\n",
       "      <th>0</th>\n",
       "      <th>1</th>\n",
       "      <th>2</th>\n",
       "      <th>3</th>\n",
       "      <th>4</th>\n",
       "    </tr>\n",
       "  </thead>\n",
       "  <tbody>\n",
       "    <tr>\n",
       "      <th>0</th>\n",
       "      <td>160.0</td>\n",
       "      <td>0.0</td>\n",
       "      <td>0.0</td>\n",
       "      <td>0.0</td>\n",
       "      <td>0.0</td>\n",
       "    </tr>\n",
       "    <tr>\n",
       "      <th>1</th>\n",
       "      <td>0.0</td>\n",
       "      <td>160.0</td>\n",
       "      <td>0.0</td>\n",
       "      <td>0.0</td>\n",
       "      <td>0.0</td>\n",
       "    </tr>\n",
       "    <tr>\n",
       "      <th>2</th>\n",
       "      <td>0.0</td>\n",
       "      <td>0.0</td>\n",
       "      <td>4.0</td>\n",
       "      <td>0.0</td>\n",
       "      <td>0.0</td>\n",
       "    </tr>\n",
       "    <tr>\n",
       "      <th>3</th>\n",
       "      <td>0.0</td>\n",
       "      <td>0.0</td>\n",
       "      <td>0.0</td>\n",
       "      <td>2.0</td>\n",
       "      <td>-2.0</td>\n",
       "    </tr>\n",
       "    <tr>\n",
       "      <th>4</th>\n",
       "      <td>0.0</td>\n",
       "      <td>0.0</td>\n",
       "      <td>0.0</td>\n",
       "      <td>-2.0</td>\n",
       "      <td>2.0</td>\n",
       "    </tr>\n",
       "  </tbody>\n",
       "</table>\n",
       "</div>"
      ],
      "text/plain": [
       "       0      1    2    3    4\n",
       "0  160.0    0.0  0.0  0.0  0.0\n",
       "1    0.0  160.0  0.0  0.0  0.0\n",
       "2    0.0    0.0  4.0  0.0  0.0\n",
       "3    0.0    0.0  0.0  2.0 -2.0\n",
       "4    0.0    0.0  0.0 -2.0  2.0"
      ]
     },
     "execution_count": 67,
     "metadata": {},
     "output_type": "execute_result"
    }
   ],
   "source": [
    "pd.DataFrame(np.matmul((eig_values*eig_vectors),np.linalg.inv(eig_vectors)))"
   ]
  },
  {
   "cell_type": "markdown",
   "metadata": {},
   "source": [
    "### Q2 d)"
   ]
  },
  {
   "cell_type": "code",
   "execution_count": 13,
   "metadata": {},
   "outputs": [],
   "source": [
    "def find_svd():\n",
    "    m=[[12 ,-4, 0, 0 ,0],[4 ,12 ,0 ,0 ,0],[0 ,0 ,2 ,0 ,0],[0 ,0 ,0 ,1 ,-1],[0 ,0 ,0 ,-1 ,1]]\n",
    "    u,s,vt=np.linalg.svd(m)\n",
    "    return u,s,vt"
   ]
  },
  {
   "cell_type": "code",
   "execution_count": 14,
   "metadata": {},
   "outputs": [
    {
     "data": {
      "text/plain": [
       "array([[-0.31622777, -0.9486833 ,  0.        ,  0.        ,  0.        ],\n",
       "       [ 0.9486833 , -0.31622777,  0.        ,  0.        ,  0.        ],\n",
       "       [ 0.        ,  0.        ,  0.        ,  1.        ,  0.        ],\n",
       "       [ 0.        ,  0.        , -0.70710678,  0.        ,  0.70710678],\n",
       "       [ 0.        ,  0.        ,  0.70710678,  0.        ,  0.70710678]])"
      ]
     },
     "execution_count": 14,
     "metadata": {},
     "output_type": "execute_result"
    }
   ],
   "source": [
    "u"
   ]
  },
  {
   "cell_type": "code",
   "execution_count": 15,
   "metadata": {},
   "outputs": [
    {
     "data": {
      "text/plain": [
       "array([1.26491106e+01, 1.26491106e+01, 2.00000000e+00, 2.00000000e+00,\n",
       "       3.35470445e-17])"
      ]
     },
     "execution_count": 15,
     "metadata": {},
     "output_type": "execute_result"
    }
   ],
   "source": [
    "s"
   ]
  },
  {
   "cell_type": "code",
   "execution_count": 16,
   "metadata": {},
   "outputs": [
    {
     "data": {
      "text/plain": [
       "array([[ 0.        ,  1.        ,  0.        ,  0.        ,  0.        ],\n",
       "       [-1.        , -0.        , -0.        , -0.        , -0.        ],\n",
       "       [-0.        , -0.        , -0.        , -0.70710678,  0.70710678],\n",
       "       [ 0.        ,  0.        ,  1.        ,  0.        ,  0.        ],\n",
       "       [-0.        , -0.        , -0.        , -0.70710678, -0.70710678]])"
      ]
     },
     "execution_count": 16,
     "metadata": {},
     "output_type": "execute_result"
    }
   ],
   "source": [
    "vt"
   ]
  },
  {
   "cell_type": "code",
   "execution_count": 70,
   "metadata": {},
   "outputs": [
    {
     "data": {
      "text/plain": [
       "array([[12., -4.,  0.,  0.,  0.],\n",
       "       [ 4., 12.,  0.,  0.,  0.],\n",
       "       [ 0.,  0.,  2.,  0.,  0.],\n",
       "       [ 0.,  0.,  0.,  1., -1.],\n",
       "       [ 0.,  0.,  0., -1.,  1.]])"
      ]
     },
     "execution_count": 70,
     "metadata": {},
     "output_type": "execute_result"
    }
   ],
   "source": [
    "u@np.diag(s)@vt"
   ]
  },
  {
   "cell_type": "markdown",
   "metadata": {},
   "source": [
    "# Q3"
   ]
  },
  {
   "cell_type": "code",
   "execution_count": 46,
   "metadata": {},
   "outputs": [],
   "source": [
    "m1=[47,53,49,50,48,46]\n",
    "m2=[55,54,58,61,55,52]\n",
    "m3=[54,50,51,51,50,49]\n",
    "\n",
    "n=len(m1)\n",
    "df=[m1,m2,m3]\n",
    "mean_m1=np.mean(m1)\n",
    "mean_m2=np.mean(m2)\n",
    "mean_m3=np.mean(m3)\n",
    "mean_all=(np.sum(m1)+np.sum(m2)+np.sum(m3))/(n*3)"
   ]
  },
  {
   "cell_type": "code",
   "execution_count": 40,
   "metadata": {},
   "outputs": [],
   "source": [
    "m1=np.array([47,53,49,50,48,46])\n",
    "m2=np.array([55,54,58,61,55,52])\n",
    "m3=np.array([54,50,51,51,50,49])\n",
    "n=len(m1)\n",
    "m1=m1.transpose()\n",
    "m2=m2.transpose()\n",
    "m3=m3.transpose()\n",
    "df=np.array([m1,m2,m3]).transpose()\n",
    "\n",
    "mean_m1=np.mean(m1)\n",
    "mean_m2=np.mean(m2)\n",
    "mean_m3=np.mean(m3)\n",
    "mean_all=(np.sum(m1)+np.sum(m2)+np.sum(m3))/(n*3)"
   ]
  },
  {
   "cell_type": "code",
   "execution_count": 41,
   "metadata": {},
   "outputs": [
    {
     "output_type": "execute_result",
     "data": {
      "text/plain": [
       "array([[47, 55, 54],\n",
       "       [53, 54, 50],\n",
       "       [49, 58, 51],\n",
       "       [50, 61, 51],\n",
       "       [48, 55, 50],\n",
       "       [46, 52, 49]])"
      ]
     },
     "metadata": {},
     "execution_count": 41
    }
   ],
   "source": [
    "df"
   ]
  },
  {
   "cell_type": "code",
   "execution_count": 47,
   "metadata": {},
   "outputs": [
    {
     "output_type": "execute_result",
     "data": {
      "text/plain": [
       "(48.833333333333336,\n",
       " 55.833333333333336,\n",
       " 50.833333333333336,\n",
       " 51.833333333333336)"
      ]
     },
     "metadata": {},
     "execution_count": 47
    }
   ],
   "source": [
    "mean_m1,mean_m2,mean_m3,mean_all"
   ]
  },
  {
   "cell_type": "code",
   "execution_count": 57,
   "metadata": {},
   "outputs": [
    {
     "output_type": "stream",
     "name": "stdout",
     "text": [
      "78.0 96.50000000000001 1.6165803108808288\n"
     ]
    }
   ],
   "source": [
    "mean=[]\n",
    "for i in range(len(df)):\n",
    "    mean.append(np.mean(df[i]))\n",
    "mean\n",
    "mean_A=np.mean(mean)\n",
    "Sx=np.sum((mean-mean_A)**2)\n",
    "Sp=0\n",
    "for i in range(len(df)):\n",
    "    Sp+=np.sum((df[i]-mean[i])**2)\n",
    "Sp/=2\n",
    "print(3*Sx,Sp*2,3*Sx/Sp)"
   ]
  },
  {
   "cell_type": "markdown",
   "metadata": {},
   "source": [
    "### Q3 a)"
   ]
  },
  {
   "cell_type": "code",
   "execution_count": 51,
   "metadata": {},
   "outputs": [
    {
     "output_type": "stream",
     "name": "stdout",
     "text": [
      "Variance amongst the three sample means:  156.0\n"
     ]
    }
   ],
   "source": [
    "Sx = ((mean_m1 - mean_all)**2 +  (mean_m2 - mean_all)**2  + (mean_m3 - mean_all)**2)\n",
    "print('Variance amongst the three sample means: ',6*Sx)"
   ]
  },
  {
   "cell_type": "markdown",
   "metadata": {},
   "source": [
    "### Q3 b)"
   ]
  },
  {
   "cell_type": "code",
   "execution_count": 52,
   "metadata": {},
   "outputs": [
    {
     "output_type": "stream",
     "name": "stdout",
     "text": [
      "Residual variance:  96.50000000000001\n"
     ]
    }
   ],
   "source": [
    "Sp = np.sum((m1-mean_m1)**2) + np.sum((m2-mean_m2)**2) + np.sum((m3-mean_m3)**2)\n",
    "print('Residual variance: ',Sp)"
   ]
  },
  {
   "cell_type": "code",
   "execution_count": 53,
   "metadata": {},
   "outputs": [
    {
     "output_type": "execute_result",
     "data": {
      "text/plain": [
       "12.124352331606216"
      ]
     },
     "metadata": {},
     "execution_count": 53
    }
   ],
   "source": [
    "F=(6*Sx/2)/(Sp/(15))\n",
    "F"
   ]
  },
  {
   "cell_type": "markdown",
   "metadata": {},
   "source": [
    "### Q3 c)"
   ]
  },
  {
   "cell_type": "code",
   "execution_count": 60,
   "metadata": {},
   "outputs": [],
   "source": [
    "degree_of_freedom_Sp = 3*(n-1)\n",
    "degree_of_freedom_Sx = 2 #3-1 "
   ]
  },
  {
   "cell_type": "code",
   "execution_count": 61,
   "metadata": {},
   "outputs": [
    {
     "name": "stdout",
     "output_type": "stream",
     "text": [
      "Degree of freedom for F are Sp = 15 and Sx = 2\n"
     ]
    }
   ],
   "source": [
    "print('Degree of freedom for F are Sp = '+str(degree_of_freedom_Sp) + ' and Sx = '+str(degree_of_freedom_Sx))"
   ]
  },
  {
   "cell_type": "code",
   "execution_count": 62,
   "metadata": {},
   "outputs": [
    {
     "name": "stdout",
     "output_type": "stream",
     "text": [
      "F value for the given data:  12.124352331606216\n"
     ]
    }
   ],
   "source": [
    "F = (Sx/Sp)*(degree_of_freedom_Sp/degree_of_freedom_Sx)\n",
    "print('F value for the given data: ',F)"
   ]
  },
  {
   "cell_type": "code",
   "execution_count": 22,
   "metadata": {},
   "outputs": [
    {
     "output_type": "execute_result",
     "data": {
      "text/plain": [
       "F_onewayResult(statistic=12.124352331606218, pvalue=0.000736197742991534)"
      ]
     },
     "metadata": {},
     "execution_count": 22
    }
   ],
   "source": [
    "# p_value,f=stats.f_oneway(m1,m2,m3).pvalue\n",
    "stats.f_oneway(m1,m2,m3)\n",
    "# print('p value for the given data: '+str(p_value)+'f:'+str(f))"
   ]
  },
  {
   "cell_type": "markdown",
   "metadata": {},
   "source": [
    "### Q3 e)"
   ]
  },
  {
   "cell_type": "code",
   "execution_count": 64,
   "metadata": {},
   "outputs": [
    {
     "data": {
      "text/html": [
       "<div>\n",
       "<style scoped>\n",
       "    .dataframe tbody tr th:only-of-type {\n",
       "        vertical-align: middle;\n",
       "    }\n",
       "\n",
       "    .dataframe tbody tr th {\n",
       "        vertical-align: top;\n",
       "    }\n",
       "\n",
       "    .dataframe thead th {\n",
       "        text-align: right;\n",
       "    }\n",
       "</style>\n",
       "<table border=\"1\" class=\"dataframe\">\n",
       "  <thead>\n",
       "    <tr style=\"text-align: right;\">\n",
       "      <th></th>\n",
       "      <th>0</th>\n",
       "      <th>1</th>\n",
       "      <th>2</th>\n",
       "    </tr>\n",
       "  </thead>\n",
       "  <tbody>\n",
       "    <tr>\n",
       "      <th>0</th>\n",
       "      <td>47</td>\n",
       "      <td>55</td>\n",
       "      <td>54</td>\n",
       "    </tr>\n",
       "    <tr>\n",
       "      <th>1</th>\n",
       "      <td>53</td>\n",
       "      <td>54</td>\n",
       "      <td>50</td>\n",
       "    </tr>\n",
       "    <tr>\n",
       "      <th>2</th>\n",
       "      <td>49</td>\n",
       "      <td>58</td>\n",
       "      <td>51</td>\n",
       "    </tr>\n",
       "    <tr>\n",
       "      <th>3</th>\n",
       "      <td>50</td>\n",
       "      <td>61</td>\n",
       "      <td>51</td>\n",
       "    </tr>\n",
       "    <tr>\n",
       "      <th>4</th>\n",
       "      <td>48</td>\n",
       "      <td>55</td>\n",
       "      <td>50</td>\n",
       "    </tr>\n",
       "    <tr>\n",
       "      <th>5</th>\n",
       "      <td>46</td>\n",
       "      <td>52</td>\n",
       "      <td>49</td>\n",
       "    </tr>\n",
       "  </tbody>\n",
       "</table>\n",
       "</div>"
      ],
      "text/plain": [
       "    0   1   2\n",
       "0  47  55  54\n",
       "1  53  54  50\n",
       "2  49  58  51\n",
       "3  50  61  51\n",
       "4  48  55  50\n",
       "5  46  52  49"
      ]
     },
     "execution_count": 64,
     "metadata": {},
     "output_type": "execute_result"
    }
   ],
   "source": [
    "df2=pd.DataFrame(np.array(df).transpose())\n",
    "df2"
   ]
  },
  {
   "cell_type": "code",
   "execution_count": 65,
   "metadata": {},
   "outputs": [],
   "source": [
    "sr=[]\n",
    "for i in range(len(df2[0])):\n",
    "    sr.append(np.sum(df2.iloc[i,:]))\n",
    "sr=np.array(sr)"
   ]
  },
  {
   "cell_type": "code",
   "execution_count": 66,
   "metadata": {},
   "outputs": [],
   "source": [
    "sc=[]\n",
    "for i in range(df2.shape[1]):\n",
    "    sc.append(np.sum(df2[i]))\n",
    "sc=np.array(sc)"
   ]
  },
  {
   "cell_type": "code",
   "execution_count": 67,
   "metadata": {},
   "outputs": [],
   "source": [
    "sst=np.sum(sc)"
   ]
  },
  {
   "cell_type": "code",
   "execution_count": 68,
   "metadata": {},
   "outputs": [],
   "source": [
    "ss=0\n",
    "for i in range(df2.shape[1]):\n",
    "    for j in range(df2.shape[0]):\n",
    "        ss+= df2[i][j]*df2[i][j]\n",
    "\n",
    "N=df2.shape[0]*df2.shape[1] \n"
   ]
  },
  {
   "cell_type": "code",
   "execution_count": 74,
   "metadata": {},
   "outputs": [
    {
     "data": {
      "text/plain": [
       "48613"
      ]
     },
     "execution_count": 74,
     "metadata": {},
     "output_type": "execute_result"
    }
   ],
   "source": [
    "ss"
   ]
  },
  {
   "cell_type": "code",
   "execution_count": 69,
   "metadata": {},
   "outputs": [
    {
     "data": {
      "text/plain": [
       "252.5"
      ]
     },
     "execution_count": 69,
     "metadata": {},
     "output_type": "execute_result"
    }
   ],
   "source": [
    "SST = ss - sst*sst/N\n",
    "SST"
   ]
  },
  {
   "cell_type": "code",
   "execution_count": 70,
   "metadata": {},
   "outputs": [
    {
     "data": {
      "text/plain": [
       "156.0"
      ]
     },
     "execution_count": 70,
     "metadata": {},
     "output_type": "execute_result"
    }
   ],
   "source": [
    "SSC = np.sum(sc**2)/6 - sst*sst/N\n",
    "SSC"
   ]
  },
  {
   "cell_type": "code",
   "execution_count": 71,
   "metadata": {},
   "outputs": [
    {
     "data": {
      "text/plain": [
       "43.16666666666424"
      ]
     },
     "execution_count": 71,
     "metadata": {},
     "output_type": "execute_result"
    }
   ],
   "source": [
    "SSR = np.sum(sr**2)/3 - sst*sst/N\n",
    "SSR"
   ]
  },
  {
   "cell_type": "code",
   "execution_count": 72,
   "metadata": {},
   "outputs": [
    {
     "data": {
      "text/plain": [
       "53.33333333333576"
      ]
     },
     "execution_count": 72,
     "metadata": {},
     "output_type": "execute_result"
    }
   ],
   "source": [
    "SSE = SST - SSC - SSR\n",
    "SSE"
   ]
  },
  {
   "cell_type": "code",
   "execution_count": 76,
   "metadata": {},
   "outputs": [
    {
     "data": {
      "text/plain": [
       "(14.624999999999336, 1.6187499999998354)"
      ]
     },
     "execution_count": 76,
     "metadata": {},
     "output_type": "execute_result"
    }
   ],
   "source": [
    "MSC=SSC/2\n",
    "MSR=SSR/5\n",
    "MSE=SSE/10\n",
    "\n",
    "FC=MSC/MSE\n",
    "FR=MSR/MSE\n",
    "\n",
    "FC,FR"
   ]
  },
  {
   "cell_type": "code",
   "execution_count": 77,
   "metadata": {},
   "outputs": [
    {
     "data": {
      "text/plain": [
       "(78.0, 8.633333333332848, 5.3333333333335755)"
      ]
     },
     "execution_count": 77,
     "metadata": {},
     "output_type": "execute_result"
    }
   ],
   "source": [
    "MSC,MSR,MSE\n"
   ]
  },
  {
   "cell_type": "code",
   "execution_count": null,
   "metadata": {},
   "outputs": [],
   "source": []
  }
 ],
 "metadata": {
  "kernelspec": {
   "name": "python371jvsc74a57bd0cf2350cba43e1d06d9c1f803cf97a1d209fb9586cdf73481a8f23553c7381136",
   "display_name": "Python 3.7.1 64-bit ('base': conda)"
  },
  "language_info": {
   "codemirror_mode": {
    "name": "ipython",
    "version": 3
   },
   "file_extension": ".py",
   "mimetype": "text/x-python",
   "name": "python",
   "nbconvert_exporter": "python",
   "pygments_lexer": "ipython3",
   "version": "3.7.1"
  }
 },
 "nbformat": 4,
 "nbformat_minor": 2
}